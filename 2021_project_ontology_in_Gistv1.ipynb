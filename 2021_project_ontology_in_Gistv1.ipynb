{
 "cells": [
  {
   "cell_type": "code",
   "execution_count": 11,
   "metadata": {},
   "outputs": [],
   "source": [
    "import os\n",
    "import difflib\n",
    "import graphviz\n",
    "import owlready2 as owl\n",
    "import weakref"
   ]
  },
  {
   "cell_type": "code",
   "execution_count": 2,
   "metadata": {},
   "outputs": [
    {
     "name": "stdout",
     "output_type": "stream",
     "text": [
      "Loaded owl file at: file:///Users/lawrence/ontologies/gistCore9.5.0\n"
     ]
    }
   ],
   "source": [
    "onto_path = 'file://' + os.path.abspath('ontologies/gistCore9.5.0')\n",
    "onto = owl.get_ontology(onto_path).load()\n",
    "print('Loaded owl file at:', onto_path)"
   ]
  },
  {
   "cell_type": "code",
   "execution_count": 3,
   "metadata": {},
   "outputs": [
    {
     "name": "stdout",
     "output_type": "stream",
     "text": [
      "[gist.Project]\n"
     ]
    }
   ],
   "source": [
    "Project_class=onto.search(iri='*Project*')\n",
    "print(Project_class)"
   ]
  },
  {
   "cell_type": "code",
   "execution_count": 4,
   "metadata": {},
   "outputs": [
    {
     "name": "stdout",
     "output_type": "stream",
     "text": [
      "equivalent_to: [gist.Task & gist.hasSubTask.some(gist.Task)]\n",
      "has subclasses:  [gist.Project]\n",
      "{'namespace': get_ontology(\"https://ontologies.semanticarts.com/o/gistCore#\").get_namespace(\"https://ontologies.semanticarts.com/gist/\"), 'storid': 507, '_name': 'Project', 'is_a': [owl.Thing], '_equivalent_to': [gist.Task & gist.hasSubTask.some(gist.Task)], '__module__': 'owlready2.entity', '__doc__': None}\n"
     ]
    }
   ],
   "source": [
    "Project_class[0].is_a\n",
    "print('equivalent_to:', Project_class[0].equivalent_to)\n",
    "print('has subclasses: ', onto.search(subclass_of=Project_class[0]))\n",
    "print(Project_class[0].__dict__)"
   ]
  },
  {
   "cell_type": "code",
   "execution_count": 15,
   "metadata": {},
   "outputs": [
    {
     "name": "stdout",
     "output_type": "stream",
     "text": [
      "gist.Project\n",
      "owl.Thing\n",
      "gist.Project\n"
     ]
    }
   ],
   "source": [
    "for sc in Project_class[0].ancestors():\n",
    "    print (sc)\n",
    "for sc in Project_class[0].descendants():\n",
    "    print (sc)"
   ]
  },
  {
   "cell_type": "code",
   "execution_count": 6,
   "metadata": {},
   "outputs": [],
   "source": [
    "Project_class_actually=Project_class[0]"
   ]
  },
  {
   "cell_type": "code",
   "execution_count": 13,
   "metadata": {},
   "outputs": [],
   "source": [
    "Project_1 = Project_class_actually(\"Project_1\")\n",
    "Project_2 = Project_class_actually(\"Project_2\")\n",
    "Project_3 = Project_class_actually(\"Project_3\")"
   ]
  },
  {
   "cell_type": "code",
   "execution_count": 19,
   "metadata": {},
   "outputs": [
    {
     "name": "stdout",
     "output_type": "stream",
     "text": [
      "[gist.Task, gist.hasSubTask, gist.ScheduledTask, gist.hasDirectSubTask]\n"
     ]
    }
   ],
   "source": [
    "Task_class=onto.search(iri='*Task')\n",
    "print(Task_class)"
   ]
  },
  {
   "cell_type": "code",
   "execution_count": 20,
   "metadata": {},
   "outputs": [],
   "source": [
    "Task_class_actually=Task_class[0]"
   ]
  },
  {
   "cell_type": "code",
   "execution_count": 22,
   "metadata": {},
   "outputs": [],
   "source": [
    "Task_1_1 = Task_class_actually(\"Task_1_1\")\n",
    "Task_1_2 = Task_class_actually(\"Task_1_2\")\n",
    "Task_1_3 = Task_class_actually(\"Task_1_3\")"
   ]
  },
  {
   "cell_type": "code",
   "execution_count": null,
   "metadata": {},
   "outputs": [],
   "source": [
    "print (Project_1.name)\n",
    "print (Project_1.iri)\n",
    "for p in Project_class_actually.instances():\n",
    "    print (p.name)\n",
    "for t in Task_class_actually.instances():\n",
    "    print (t.name)"
   ]
  },
  {
   "cell_type": "code",
   "execution_count": 36,
   "metadata": {},
   "outputs": [],
   "source": [
    "Project_1.hasSubTask = [Task_1_1,Task_1_2,Task_1_3]"
   ]
  },
  {
   "cell_type": "code",
   "execution_count": 40,
   "metadata": {},
   "outputs": [
    {
     "name": "stdout",
     "output_type": "stream",
     "text": [
      "{gist.hasSubTask}\n"
     ]
    }
   ],
   "source": [
    "print (Project_1.get_properties())"
   ]
  },
  {
   "cell_type": "code",
   "execution_count": 39,
   "metadata": {},
   "outputs": [
    {
     "data": {
      "text/plain": [
       "[gist.Task_1_3,\n",
       " gist.Event & gist.hasGoal.some(gist.Intention),\n",
       " gist.Task_1_2,\n",
       " gist.Task,\n",
       " gist.Task_1_1,\n",
       " gist.Task & gist.hasSubTask.some(gist.Task)]"
      ]
     },
     "execution_count": 39,
     "metadata": {},
     "output_type": "execute_result"
    }
   ],
   "source": [
    "Project_1.INDIRECT_hasSubTask"
   ]
  },
  {
   "cell_type": "code",
   "execution_count": 41,
   "metadata": {},
   "outputs": [],
   "source": [
    "# Retrieve all object properties\n",
    "properties = list(onto.object_properties())"
   ]
  },
  {
   "cell_type": "code",
   "execution_count": 49,
   "metadata": {},
   "outputs": [],
   "source": [
    "h=onto.search(iri='*hasSubTask*')"
   ]
  },
  {
   "cell_type": "code",
   "execution_count": 53,
   "metadata": {},
   "outputs": [
    {
     "name": "stdout",
     "output_type": "stream",
     "text": [
      "{'namespace': get_ontology(\"https://ontologies.semanticarts.com/o/gistCore#\").get_namespace(\"https://ontologies.semanticarts.com/gist/\"), 'is_a': [owl.ObjectProperty, owl.TransitiveProperty], 'storid': 509, '_name': 'hasSubTask', '_equivalent_to': [], '__module__': 'owlready2.entity', '__doc__': None, '_domain': None, '_range': None, '_property_chain': None, '_inverse_property': gist.subTaskOf, '_python_name': 'hasSubTask', '_class_property_type': [], '_class_property_some': True, '_class_property_only': False, '_class_property_relation': False, '_inverse_storid': 580}\n"
     ]
    }
   ],
   "source": [
    "print(h[0].__dict__)"
   ]
  },
  {
   "cell_type": "code",
   "execution_count": 54,
   "metadata": {},
   "outputs": [
    {
     "name": "stdout",
     "output_type": "stream",
     "text": [
      "class_property_some: True\n",
      "class_property_only: False\n",
      "class_property_relation: False\n"
     ]
    }
   ],
   "source": [
    "print('class_property_some:', h[0]._class_property_some)\n",
    "print('class_property_only:', h[0]._class_property_only)\n",
    "print('class_property_relation:', h[0]._class_property_relation)"
   ]
  },
  {
   "cell_type": "code",
   "execution_count": 55,
   "metadata": {},
   "outputs": [
    {
     "name": "stdout",
     "output_type": "stream",
     "text": [
      "name(string): hasSubTask\n",
      "module_type: owlready2.entity\n",
      "is_a: [owl.ObjectProperty, owl.TransitiveProperty]\n",
      "\n"
     ]
    }
   ],
   "source": [
    "print('name(string):', h[0].name)\n",
    "print('module_type:', h[0].__module__)\n",
    "print('is_a:', h[0].is_a)\n",
    "print()"
   ]
  },
  {
   "cell_type": "code",
   "execution_count": 58,
   "metadata": {},
   "outputs": [],
   "source": [
    "# Default type2str from owlready2\n",
    "type2str_restriction = owl.class_construct._restriction_type_2_label\n",
    "\n",
    "def _process_entity(entity, job_name, orig_entity, graph):\n",
    "    \"\"\"Helper: Append entity for the specified job.\n",
    "    \"\"\"\n",
    "    edge = (orig_entity, job_name, entity)\n",
    "    if edge not in graph:\n",
    "        graph.append(edge)\n",
    "    return graph\n",
    "\n",
    "def _process_restriction(restriction, entity, graph):\n",
    "    \"\"\"Helper: Append restriction.\n",
    "    \"\"\"\n",
    "    assert restriction.__module__ == 'owlready2.class_construct'\n",
    "    \n",
    "    # Grab object_property --type--> value\n",
    "    object_property, value = restriction.property, restriction.value\n",
    "    restriction_type = type2str_restriction[restriction.type]\n",
    "    \n",
    "    # Separate logical or for 'only'\n",
    "    if restriction_type == 'only':\n",
    "        for or_value in value.Classes:\n",
    "            edge = (entity, '{},{}'.format(object_property.name, restriction_type), or_value)\n",
    "            if edge not in graph:\n",
    "                graph.append(edge)\n",
    "            \n",
    "    # No more processing for 'some'\n",
    "    else:\n",
    "        edge = (entity, '{},{}'.format(object_property.name, restriction_type), value)\n",
    "        if edge not in graph:\n",
    "            graph.append(edge)\n",
    "        \n",
    "    return graph\n",
    "\n",
    "def _process_subclasses(entity, graph):\n",
    "    \"\"\"Helper: Append subclasses.\n",
    "    \"\"\"\n",
    "    # Safely grab all subclasses\n",
    "    try:\n",
    "        subclses = list(entity.subclasses())\n",
    "    except:\n",
    "        subclses = []\n",
    "\n",
    "    for subcls in subclses:\n",
    "        if (entity, 'has_subclass', subcls) not in graph:\n",
    "            graph.append((entity, 'has_subclass', subcls))\n",
    "        if (subcls, 'subclass_of', entity) not in graph:\n",
    "            graph.append((subcls, 'subclass_of', entity))\n",
    "\n",
    "    return graph\n",
    "\n",
    "def _populate_subclass_rel(graph):\n",
    "    \"\"\"Helper: Ensure 'subclass_of' and 'has_subclass' always appear in pairs.\n",
    "    \"\"\"\n",
    "    for edge in graph:\n",
    "        if edge[1] == 'subclass_of' and (edge[2], 'has_subclass', edge[0]) not in graph:\n",
    "            graph.append((edge[2], 'has_subclass', edge[0]))\n",
    "        elif edge[1] == 'has_subclass' and (edge[2], 'subclass_of', edge[0]) not in graph:\n",
    "            graph.append((edge[2], 'subclass_of', edge[0]))\n",
    "    return graph\n",
    "\n",
    "def _process_instances(entity, graph):\n",
    "    \"\"\"Helper: Append individuals.\n",
    "    \"\"\"\n",
    "    # Safely grab all individuals\n",
    "    try:\n",
    "        instances = entity.instances()\n",
    "    except:\n",
    "        instances = []\n",
    "\n",
    "    for instance in instances:\n",
    "        if instance.is_a[0] == entity:\n",
    "            if (entity, 'has_individual', instance) not in graph:\n",
    "                graph.append((entity, 'has_individual', instance))\n",
    "\n",
    "    return graph\n",
    "\n",
    "def generate_knowledge_graph(entity):\n",
    "    \"\"\"Helper function to grab entity-relation from onto and \n",
    "    return as knowledge graph.\n",
    "    \"\"\"\n",
    "    graph = []\n",
    "\n",
    "    # Part 1: Append subclasses\n",
    "    graph = _process_subclasses(entity, graph)\n",
    "\n",
    "    # Part 2: Collect equivalent_to\n",
    "    try:\n",
    "        equivalent_to_list = entity.INDIRECT_equivalent_to  # NOTE: Weird bug here, have to use INDIRECT\n",
    "    except:\n",
    "        equivalent_to_list = []\n",
    "    for et in equivalent_to_list:\n",
    "        # equivalent_to AND objects:\n",
    "        if et.__module__ == 'owlready2.class_construct':\n",
    "            for x in et.Classes:\n",
    "                # For class restriction, retrieve relevant infos inside\n",
    "                if x.__module__ == 'owlready2.class_construct':\n",
    "                    graph = _process_restriction(x, entity, graph)\n",
    "                    \n",
    "    # Part 3: Look into is_a\n",
    "    is_a_list = entity.is_a\n",
    "    for x in is_a_list:\n",
    "        # Entity: is_a indicates subclasses\n",
    "        if x.__module__ == 'owlready2.entity':\n",
    "            graph = _process_entity(x, 'subclass_of', entity, graph)\n",
    "                \n",
    "        # Restriction\n",
    "        elif x.__module__ == 'owlready2.class_construct':\n",
    "            graph = _process_restriction(x, entity, graph)\n",
    "        \n",
    "    # Part 4: Look into instances\n",
    "    graph = _process_instances(entity, graph)\n",
    "    \n",
    "    # Part 5: Some additional filters\n",
    "    graph = _populate_subclass_rel(graph)\n",
    "    \n",
    "    return graph\n",
    "\n",
    "def _filter_graph(graph, onto):\n",
    "    \"\"\"Helper: filter graph from some ill-logical entries.\n",
    "    \"\"\"\n",
    "    filtered_graph = []\n",
    "    # Grab all individuals\n",
    "    individuals = list(onto.individuals())\n",
    "\n",
    "    for edge in graph:\n",
    "        passed = True\n",
    "        # Ill-logical individuals\n",
    "        if edge[0] in individuals:\n",
    "            passed = False\n",
    "        if passed:\n",
    "            filtered_graph.append(edge)\n",
    "    return filtered_graph\n",
    "\n",
    "def keyword_search_onto(keyword, onto):\n",
    "    \"\"\"Search and index key entity from onto given keyword.\n",
    "    \"\"\"\n",
    "    classes = list(onto.classes())\n",
    "    classes_str = [x.name for x in classes]\n",
    "    all_res = difflib.get_close_matches(keyword, classes_str)\n",
    "    # Only grab the most probable search keyword\n",
    "    if len(all_res) > 0:\n",
    "        res = all_res[0]\n",
    "        return classes[classes_str.index(res)]\n",
    "    else:\n",
    "        return None\n",
    "\n",
    "def _to_string(graph):\n",
    "    \"\"\"Helper: Convert everything collected inside graph list into\n",
    "    string.\n",
    "    \"\"\"\n",
    "    for i in range(len(graph)):\n",
    "        edge = list(graph[i])\n",
    "        for k in range(len(edge)):\n",
    "            if type(edge[k]) is not str:\n",
    "                edge[k] = edge[k].name\n",
    "            edge[k] = edge[k].replace(',', ', ')\n",
    "        graph[i] = (edge[0], edge[1], edge[2])\n",
    "    return graph\n",
    "\n",
    "def ontograf_simple(orig_entity, onto):\n",
    "    \"\"\"Interface func to search and retrieve infor for a given\n",
    "    entity inside onto.\n",
    "    \"\"\"\n",
    "    if orig_entity is None:\n",
    "        return []\n",
    "    \n",
    "    # Initial graph search\n",
    "    graph = generate_knowledge_graph(orig_entity)\n",
    "    \n",
    "    # Prep for other key entities given the initial graph\n",
    "    entities = []\n",
    "    for edge in graph:\n",
    "        entities.append(edge[2])\n",
    "\n",
    "    # 1st-level of filters, append more info from children and parent nodes\n",
    "    for entity in entities:\n",
    "        sub_graph = generate_knowledge_graph(entity)\n",
    "        for edge in sub_graph:\n",
    "            if edge[2] == orig_entity:\n",
    "                if (entity, edge[1], orig_entity) not in graph and entity != orig_entity:\n",
    "                    graph.append((entity, edge[1], orig_entity))\n",
    "\n",
    "    # 2nd-level of filters, filter some ill-logical nodes\n",
    "    graph = _filter_graph(graph, onto)\n",
    "\n",
    "    # Convert everything inside graph into str\n",
    "    graph = _to_string(graph)\n",
    "\n",
    "    return graph"
   ]
  },
  {
   "cell_type": "code",
   "execution_count": 59,
   "metadata": {},
   "outputs": [],
   "source": [
    "def convert_to_graphviz(graph, name='KG'):\n",
    "    \"\"\"Helper function to convert edge graph into graphviz.Digraph.\n",
    "    \"\"\"\n",
    "    e = graphviz.Digraph(name)\n",
    "    e.attr('node', shape='box')\n",
    "    for edge in graph:\n",
    "        e.attr('node', shape='box')\n",
    "        e.node(edge[0])\n",
    "        e.node(edge[2])\n",
    "        e.edge(edge[0], edge[2], label=edge[1])\n",
    "    return e"
   ]
  },
  {
   "cell_type": "code",
   "execution_count": 60,
   "metadata": {},
   "outputs": [
    {
     "name": "stdout",
     "output_type": "stream",
     "text": [
      "--------------------\n",
      "False gist.Project\n",
      "[('Project', 'hasSubTask, some', 'Task'), ('Project', 'has_individual', 'Project_1'), ('Project', 'has_individual', 'Project_2'), ('Project', 'has_individual', 'Project_3')]\n"
     ]
    },
    {
     "data": {
      "image/svg+xml": [
       "<?xml version=\"1.0\" encoding=\"UTF-8\" standalone=\"no\"?>\n",
       "<!DOCTYPE svg PUBLIC \"-//W3C//DTD SVG 1.1//EN\"\n",
       " \"http://www.w3.org/Graphics/SVG/1.1/DTD/svg11.dtd\">\n",
       "<!-- Generated by graphviz version 2.40.1 (20161225.0304)\n",
       " -->\n",
       "<!-- Title: KG Pages: 1 -->\n",
       "<svg width=\"438pt\" height=\"131pt\"\n",
       " viewBox=\"0.00 0.00 438.00 131.00\" xmlns=\"http://www.w3.org/2000/svg\" xmlns:xlink=\"http://www.w3.org/1999/xlink\">\n",
       "<g id=\"graph0\" class=\"graph\" transform=\"scale(1 1) rotate(0) translate(4 127)\">\n",
       "<title>KG</title>\n",
       "<polygon fill=\"#ffffff\" stroke=\"transparent\" points=\"-4,4 -4,-127 434,-127 434,4 -4,4\"/>\n",
       "<!-- Project -->\n",
       "<g id=\"node1\" class=\"node\">\n",
       "<title>Project</title>\n",
       "<polygon fill=\"none\" stroke=\"#000000\" points=\"236,-123 180,-123 180,-87 236,-87 236,-123\"/>\n",
       "<text text-anchor=\"middle\" x=\"208\" y=\"-101.3\" font-family=\"Times,serif\" font-size=\"14.00\" fill=\"#000000\">Project</text>\n",
       "</g>\n",
       "<!-- Task -->\n",
       "<g id=\"node2\" class=\"node\">\n",
       "<title>Task</title>\n",
       "<polygon fill=\"none\" stroke=\"#000000\" points=\"54,-36 0,-36 0,0 54,0 54,-36\"/>\n",
       "<text text-anchor=\"middle\" x=\"27\" y=\"-14.3\" font-family=\"Times,serif\" font-size=\"14.00\" fill=\"#000000\">Task</text>\n",
       "</g>\n",
       "<!-- Project&#45;&gt;Task -->\n",
       "<g id=\"edge1\" class=\"edge\">\n",
       "<title>Project&#45;&gt;Task</title>\n",
       "<path fill=\"none\" stroke=\"#000000\" d=\"M179.6792,-102.3332C137.6781,-97.8186 61.7046,-87.3256 42,-69 35.6578,-63.1017 31.9498,-54.6744 29.7969,-46.3649\"/>\n",
       "<polygon fill=\"#000000\" stroke=\"#000000\" points=\"33.2161,-45.6123 27.8695,-36.4655 26.3451,-46.9501 33.2161,-45.6123\"/>\n",
       "<text text-anchor=\"middle\" x=\"94.5\" y=\"-57.8\" font-family=\"Times,serif\" font-size=\"14.00\" fill=\"#000000\">hasSubTask, some</text>\n",
       "</g>\n",
       "<!-- Project_1 -->\n",
       "<g id=\"node3\" class=\"node\">\n",
       "<title>Project_1</title>\n",
       "<polygon fill=\"none\" stroke=\"#000000\" points=\"190,-36 120,-36 120,0 190,0 190,-36\"/>\n",
       "<text text-anchor=\"middle\" x=\"155\" y=\"-14.3\" font-family=\"Times,serif\" font-size=\"14.00\" fill=\"#000000\">Project_1</text>\n",
       "</g>\n",
       "<!-- Project&#45;&gt;Project_1 -->\n",
       "<g id=\"edge2\" class=\"edge\">\n",
       "<title>Project&#45;&gt;Project_1</title>\n",
       "<path fill=\"none\" stroke=\"#000000\" d=\"M179.9354,-92.3052C170.6255,-86.5888 161.2949,-78.8691 156,-69 152.3156,-62.1328 151.0461,-53.9604 150.9666,-46.1916\"/>\n",
       "<polygon fill=\"#000000\" stroke=\"#000000\" points=\"154.4719,-46.1723 151.4807,-36.0085 147.4808,-45.8192 154.4719,-46.1723\"/>\n",
       "<text text-anchor=\"middle\" x=\"197.5\" y=\"-57.8\" font-family=\"Times,serif\" font-size=\"14.00\" fill=\"#000000\">has_individual</text>\n",
       "</g>\n",
       "<!-- Project_2 -->\n",
       "<g id=\"node4\" class=\"node\">\n",
       "<title>Project_2</title>\n",
       "<polygon fill=\"none\" stroke=\"#000000\" points=\"296,-36 226,-36 226,0 296,0 296,-36\"/>\n",
       "<text text-anchor=\"middle\" x=\"261\" y=\"-14.3\" font-family=\"Times,serif\" font-size=\"14.00\" fill=\"#000000\">Project_2</text>\n",
       "</g>\n",
       "<!-- Project&#45;&gt;Project_2 -->\n",
       "<g id=\"edge3\" class=\"edge\">\n",
       "<title>Project&#45;&gt;Project_2</title>\n",
       "<path fill=\"none\" stroke=\"#000000\" d=\"M225.5552,-86.7868C230.2841,-81.3298 235.1502,-75.153 239,-69 243.5313,-61.7578 247.5611,-53.4202 250.8938,-45.6128\"/>\n",
       "<polygon fill=\"#000000\" stroke=\"#000000\" points=\"254.2245,-46.7122 254.7278,-36.1293 247.7348,-44.0885 254.2245,-46.7122\"/>\n",
       "<text text-anchor=\"middle\" x=\"287.5\" y=\"-57.8\" font-family=\"Times,serif\" font-size=\"14.00\" fill=\"#000000\">has_individual</text>\n",
       "</g>\n",
       "<!-- Project_3 -->\n",
       "<g id=\"node5\" class=\"node\">\n",
       "<title>Project_3</title>\n",
       "<polygon fill=\"none\" stroke=\"#000000\" points=\"402,-36 332,-36 332,0 402,0 402,-36\"/>\n",
       "<text text-anchor=\"middle\" x=\"367\" y=\"-14.3\" font-family=\"Times,serif\" font-size=\"14.00\" fill=\"#000000\">Project_3</text>\n",
       "</g>\n",
       "<!-- Project&#45;&gt;Project_3 -->\n",
       "<g id=\"edge4\" class=\"edge\">\n",
       "<title>Project&#45;&gt;Project_3</title>\n",
       "<path fill=\"none\" stroke=\"#000000\" d=\"M236.0124,-102.5088C263.0776,-98.8987 304.1107,-90.1346 333,-69 341.414,-62.8445 348.3675,-53.9313 353.746,-45.2725\"/>\n",
       "<polygon fill=\"#000000\" stroke=\"#000000\" points=\"356.8547,-46.8867 358.7761,-36.4675 350.7766,-43.4144 356.8547,-46.8867\"/>\n",
       "<text text-anchor=\"middle\" x=\"388.5\" y=\"-57.8\" font-family=\"Times,serif\" font-size=\"14.00\" fill=\"#000000\">has_individual</text>\n",
       "</g>\n",
       "</g>\n",
       "</svg>\n"
      ],
      "text/plain": [
       "<graphviz.dot.Digraph at 0x111ccc7c0>"
      ]
     },
     "execution_count": 60,
     "metadata": {},
     "output_type": "execute_result"
    }
   ],
   "source": [
    "print('-'*20)\n",
    "entity = keyword_search_onto('Project', onto)\n",
    "print(entity == onto.Thing, entity)\n",
    "kg = ontograf_simple(entity, onto)\n",
    "print(kg)\n",
    "convert_to_graphviz(kg)"
   ]
  },
  {
   "cell_type": "code",
   "execution_count": null,
   "metadata": {},
   "outputs": [],
   "source": []
  }
 ],
 "metadata": {
  "kernelspec": {
   "display_name": "Python 3",
   "language": "python",
   "name": "python3"
  },
  "language_info": {
   "codemirror_mode": {
    "name": "ipython",
    "version": 3
   },
   "file_extension": ".py",
   "mimetype": "text/x-python",
   "name": "python",
   "nbconvert_exporter": "python",
   "pygments_lexer": "ipython3",
   "version": "3.8.5"
  }
 },
 "nbformat": 4,
 "nbformat_minor": 4
}
