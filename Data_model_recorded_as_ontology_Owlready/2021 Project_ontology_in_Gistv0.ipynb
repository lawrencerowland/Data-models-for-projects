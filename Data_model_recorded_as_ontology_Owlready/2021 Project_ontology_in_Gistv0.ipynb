{
 "cells": [
  {
   "cell_type": "code",
   "execution_count": null,
   "metadata": {},
   "outputs": [],
   "source": [
    "# Relevant classes\n",
    "Project, Task,PlannedEvent,ScheduledTask,\n",
    "\n",
    "Organization,Person,\n",
    "\n",
    "Obligation,Commitment,DegreeOfCommitment,Intention,\n",
    "\n",
    "Function,Requirement,Specification,ServiceSpecification,Artifact,ProductUnit,\n",
    "\n",
    "Possibly useful: Aspect, Category,Behavior,Building, BundledCatalogItem,CatalogItem,Collection,OrderedCollection,Restriction,Component,System,Event,\n",
    ",ContingentEvent,Controller,Duration,HistoricalEvent,Message,Permission,PhysicalEvent,ProductCategory,\n",
    "SystemInstant,TaskTemplate,"
   ]
  },
  {
   "cell_type": "code",
   "execution_count": null,
   "metadata": {},
   "outputs": [],
   "source": [
    "# Relevant object properties:\n",
    "subTaskOf,hasSubTask,hasDirectPart,directPartOf,hasPart,memberOf,hasMember,aspectOf,\n",
    "partOf,categorizedBy,orderedMemberOf,madeUpOf,\n",
    "\n",
    "hasGoal,affectedBy,allocatedBy,contributesTo,basisFor,\n",
    "\n",
    "governedBy,directs,respondsTo, governs,recognizedBy,accepts,allows,prevents,identifies,owns,\n",
    "\n",
    "triggeredBy,precedes,directlyPrecededBy,directlyPrecedes,plannedEnd,plannedStart,actualStart,actualEnd,\n",
    "\n",
    "fromAgent,toAgent,\n",
    "\n",
    "hasSubCategory,hasSuperCategory,\n",
    "\n",
    "affects,connectedTo,\n",
    "    \n",
    "conformsTo, basedOn,\n",
    " \n",
    "directSubTaskOf,hasDirectSubTask,\n",
    " \n",
    "parentOf,planned,produces,recognizes,requires,"
   ]
  },
  {
   "cell_type": "code",
   "execution_count": null,
   "metadata": {},
   "outputs": [],
   "source": [
    "# cant get this to work\n",
    "Project100 = onto.Project(\"Project100\") \n",
    "Project101= onto.Project(\"Project101\", namespace = onto)\n",
    "onto.search(type = 'Project') # searches for Individuals of a given class\n",
    "onto.search(is_a = \"Project\") # searching both Individuals and subclasses of a given Class\n",
    "onto.destroy_entity\n",
    "list(onto.Project.subclasses())"
   ]
  }
 ],
 "metadata": {
  "kernelspec": {
   "display_name": "Python 3",
   "language": "python",
   "name": "python3"
  },
  "language_info": {
   "codemirror_mode": {
    "name": "ipython",
    "version": 3
   },
   "file_extension": ".py",
   "mimetype": "text/x-python",
   "name": "python",
   "nbconvert_exporter": "python",
   "pygments_lexer": "ipython3",
   "version": "3.8.5"
  }
 },
 "nbformat": 4,
 "nbformat_minor": 4
}
