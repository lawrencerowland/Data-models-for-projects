{
 "cells": [
  {
   "cell_type": "code",
   "execution_count": 5,
   "metadata": {},
   "outputs": [],
   "source": [
    "# All necessary imports\n",
    "import os\n",
    "import difflib\n",
    "import graphviz\n",
    "import owlready2 as owl"
   ]
  },
  {
   "cell_type": "code",
   "execution_count": 2,
   "metadata": {},
   "outputs": [
    {
     "name": "stdout",
     "output_type": "stream",
     "text": [
      "Loaded owl file at: file:///Users/lawrence/ontologies/gistCore9.5.0\n"
     ]
    }
   ],
   "source": [
    "onto_path = 'file://' + os.path.abspath('ontologies/gistCore9.5.0')\n",
    "onto = owl.get_ontology(onto_path).load()\n",
    "print('Loaded owl file at:', onto_path)"
   ]
  },
  {
   "cell_type": "code",
   "execution_count": 6,
   "metadata": {},
   "outputs": [],
   "source": [
    "#create a list of all classes\n",
    "classes=list(onto.classes())"
   ]
  },
  {
   "cell_type": "code",
   "execution_count": null,
   "metadata": {},
   "outputs": [],
   "source": [
    "print ('All classes\\n' + '-' * 20)\n",
    "for x in classes: \n",
    "    print(x)\n",
    "print()"
   ]
  },
  {
   "cell_type": "code",
   "execution_count": 4,
   "metadata": {},
   "outputs": [
    {
     "name": "stdout",
     "output_type": "stream",
     "text": [
      "gist.SystemInstant\n"
     ]
    }
   ],
   "source": [
    "# Get a random class in collection\n",
    "cls = classes[-10]\n",
    "print (cls)"
   ]
  },
  {
   "cell_type": "code",
   "execution_count": 6,
   "metadata": {},
   "outputs": [
    {
     "name": "stdout",
     "output_type": "stream",
     "text": [
      "{'namespace': get_ontology(\"https://ontologies.semanticarts.com/o/gistCore#\").get_namespace(\"https://ontologies.semanticarts.com/gist/\"), 'storid': 519, '_name': 'SystemInstant', 'is_a': [owl.Thing], '_equivalent_to': None, '__module__': 'owlready2.entity', '__doc__': None}\n",
      "\n"
     ]
    }
   ],
   "source": [
    "#It appears that each class has a dictionary listing  associated with it\n",
    "print(cls.__dict__)\n",
    "print()\n",
    "# specifically it has an ontology, a namespace, name, _is_a, _equivalent_to etc"
   ]
  },
  {
   "cell_type": "code",
   "execution_count": 7,
   "metadata": {},
   "outputs": [
    {
     "name": "stdout",
     "output_type": "stream",
     "text": [
      "name(string): SystemInstant\n"
     ]
    }
   ],
   "source": [
    "# this is how to look up the dictionary for that aspect\n",
    "print('name(string):', cls.name)"
   ]
  },
  {
   "cell_type": "code",
   "execution_count": 26,
   "metadata": {},
   "outputs": [
    {
     "data": {
      "text/plain": [
       "[owl.Thing]"
      ]
     },
     "execution_count": 26,
     "metadata": {},
     "output_type": "execute_result"
    }
   ],
   "source": [
    "cls.is_a"
   ]
  },
  {
   "cell_type": "code",
   "execution_count": 27,
   "metadata": {},
   "outputs": [
    {
     "name": "stdout",
     "output_type": "stream",
     "text": [
      "module_type: owlready2.entity\n"
     ]
    }
   ],
   "source": [
    "print('module_type:', cls.__module__)"
   ]
  },
  {
   "cell_type": "code",
   "execution_count": 29,
   "metadata": {},
   "outputs": [
    {
     "name": "stdout",
     "output_type": "stream",
     "text": [
      "equivalent_to: [gist.TimeInstant & gist.hasPrecision.value(gist._one_millisecond)]\n"
     ]
    }
   ],
   "source": [
    "print('equivalent_to:', cls.equivalent_to)"
   ]
  },
  {
   "cell_type": "code",
   "execution_count": 7,
   "metadata": {},
   "outputs": [
    {
     "name": "stdout",
     "output_type": "stream",
     "text": [
      "[gist.Project]\n"
     ]
    }
   ],
   "source": [
    "#Another way of finding the class I want. And assigning it the name whatever_class\n",
    "Project_class=onto.search(iri='*Project*')\n",
    "print(Project_class)"
   ]
  },
  {
   "cell_type": "code",
   "execution_count": 18,
   "metadata": {},
   "outputs": [
    {
     "data": {
      "text/plain": [
       "[owl.Thing]"
      ]
     },
     "execution_count": 18,
     "metadata": {},
     "output_type": "execute_result"
    }
   ],
   "source": [
    "Project_class[0].is_a"
   ]
  },
  {
   "cell_type": "code",
   "execution_count": 22,
   "metadata": {},
   "outputs": [
    {
     "data": {
      "text/plain": [
       "[gist.Project]"
      ]
     },
     "execution_count": 22,
     "metadata": {},
     "output_type": "execute_result"
    }
   ],
   "source": [
    "onto.search(subclass_of=Project_class[0])"
   ]
  },
  {
   "cell_type": "code",
   "execution_count": 43,
   "metadata": {},
   "outputs": [
    {
     "name": "stdout",
     "output_type": "stream",
     "text": [
      "owl.Thing\n",
      "gist.Project\n",
      "gist.Project\n"
     ]
    }
   ],
   "source": [
    "for sc in Project_class[0].ancestors():\n",
    "    print (sc)\n",
    "for sc in Project_class[0].descendants():\n",
    "    print (sc)"
   ]
  },
  {
   "cell_type": "code",
   "execution_count": null,
   "metadata": {},
   "outputs": [],
   "source": [
    "# Retrieve all object properties\n",
    "properties = list(onto.object_properties())"
   ]
  },
  {
   "cell_type": "code",
   "execution_count": null,
   "metadata": {},
   "outputs": [],
   "source": [
    "print('\\nAll object properties\\n'+'-'*20)\n",
    "for x in properties: \n",
    "    print(x)\n",
    "print()"
   ]
  },
  {
   "cell_type": "code",
   "execution_count": 24,
   "metadata": {},
   "outputs": [
    {
     "name": "stdout",
     "output_type": "stream",
     "text": [
      "gist.viableRange\n",
      "{'namespace': get_ontology(\"https://ontologies.semanticarts.com/o/gistCore#\").get_namespace(\"https://ontologies.semanticarts.com/gist/\"), 'is_a': [owl.ObjectProperty], 'storid': 599, '_name': 'viableRange', '_equivalent_to': None, '__module__': 'owlready2.entity', '__doc__': None, '_domain': None, '_range': None, '_property_chain': None, '_inverse_property': None, '_python_name': 'viableRange', '_class_property_type': [], '_class_property_some': True, '_class_property_only': False, '_class_property_relation': False, '_inverse_storid': 0}\n",
      "\n"
     ]
    }
   ],
   "source": [
    "rel = properties[-1]\n",
    "print(rel)\n",
    "print(rel.__dict__)\n",
    "print()"
   ]
  },
  {
   "cell_type": "code",
   "execution_count": 26,
   "metadata": {},
   "outputs": [
    {
     "name": "stdout",
     "output_type": "stream",
     "text": [
      "class_property_some: True\n",
      "class_property_only: False\n",
      "class_property_relation: False\n"
     ]
    }
   ],
   "source": [
    "\"\"\"\n",
    "The .class_property_type attribute of Properties allows to indicate how to handle class properties:\n",
    "    “some”: handle class properties as existential restrictions (i.e. SOME restrictions and VALUES restrictions).\n",
    "    “only”: handle class properties as universal restrictions (i.e. ONLY restrictions).\n",
    "    “relation”: handle class properties as relations (i.e. simple RDF triple, as in Linked Data).\n",
    "\"\"\"\n",
    "print('class_property_some:', rel._class_property_some)\n",
    "print('class_property_only:', rel._class_property_only)\n",
    "print('class_property_relation:', rel._class_property_relation)"
   ]
  },
  {
   "cell_type": "code",
   "execution_count": 25,
   "metadata": {},
   "outputs": [
    {
     "name": "stdout",
     "output_type": "stream",
     "text": [
      "name(string): viableRange\n",
      "module_type: owlready2.entity\n",
      "is_a: [owl.ObjectProperty]\n",
      "\n"
     ]
    }
   ],
   "source": [
    "print('name(string):', rel.name)\n",
    "print('module_type:', rel.__module__)\n",
    "print('is_a:', rel.is_a)\n",
    "print()"
   ]
  },
  {
   "cell_type": "code",
   "execution_count": 32,
   "metadata": {},
   "outputs": [],
   "source": [
    "#Interested in the relation 'affects'\n",
    "governedBy_property=onto.search(iri='*governedBy*')"
   ]
  },
  {
   "cell_type": "code",
   "execution_count": 33,
   "metadata": {},
   "outputs": [
    {
     "name": "stdout",
     "output_type": "stream",
     "text": [
      "gist.governedBy\n",
      "class_property_some: True\n",
      "class_property_only: False\n",
      "class_property_relation: False\n"
     ]
    }
   ],
   "source": [
    "print(governedBy_property[0])\n",
    "print('class_property_some:', governedBy_property[0]._class_property_some)\n",
    "print('class_property_only:', governedBy_property[0]._class_property_only)\n",
    "print('class_property_relation:', governedBy_property[0]._class_property_relation)"
   ]
  },
  {
   "cell_type": "code",
   "execution_count": null,
   "metadata": {},
   "outputs": [],
   "source": [
    "# Retrieve all disjoint sets\n",
    "disjoints = list(onto.disjoints())\n",
    "print('\\nAll disjoints\\n'+'-'*20)\n",
    "for x in disjoints: \n",
    "    # NOTE: Retreive all disjoint individual entity objects, stored in the dict\n",
    "    print(x)\n",
    "    print(x.__dict__)\n",
    "    print()"
   ]
  },
  {
   "cell_type": "markdown",
   "metadata": {},
   "source": [
    "## Part 4: Higher-level API exploration\n",
    "Some helper functions to retrieve useful info given an entity to search for. This is a mimic of ontograf plugin feature from Protege."
   ]
  },
  {
   "cell_type": "code",
   "execution_count": 8,
   "metadata": {},
   "outputs": [],
   "source": [
    "# Default type2str from owlready2\n",
    "type2str_restriction = owl.class_construct._restriction_type_2_label\n",
    "\n",
    "def _process_entity(entity, job_name, orig_entity, graph):\n",
    "    \"\"\"Helper: Append entity for the specified job.\n",
    "    \"\"\"\n",
    "    edge = (orig_entity, job_name, entity)\n",
    "    if edge not in graph:\n",
    "        graph.append(edge)\n",
    "    return graph\n",
    "\n",
    "def _process_restriction(restriction, entity, graph):\n",
    "    \"\"\"Helper: Append restriction.\n",
    "    \"\"\"\n",
    "    assert restriction.__module__ == 'owlready2.class_construct'\n",
    "    \n",
    "    # Grab object_property --type--> value\n",
    "    object_property, value = restriction.property, restriction.value\n",
    "    restriction_type = type2str_restriction[restriction.type]\n",
    "    \n",
    "    # Separate logical or for 'only'\n",
    "    if restriction_type == 'only':\n",
    "        for or_value in value.Classes:\n",
    "            edge = (entity, '{},{}'.format(object_property.name, restriction_type), or_value)\n",
    "            if edge not in graph:\n",
    "                graph.append(edge)\n",
    "            \n",
    "    # No more processing for 'some'\n",
    "    else:\n",
    "        edge = (entity, '{},{}'.format(object_property.name, restriction_type), value)\n",
    "        if edge not in graph:\n",
    "            graph.append(edge)\n",
    "        \n",
    "    return graph\n",
    "\n",
    "def _process_subclasses(entity, graph):\n",
    "    \"\"\"Helper: Append subclasses.\n",
    "    \"\"\"\n",
    "    # Safely grab all subclasses\n",
    "    try:\n",
    "        subclses = list(entity.subclasses())\n",
    "    except:\n",
    "        subclses = []\n",
    "\n",
    "    for subcls in subclses:\n",
    "        if (entity, 'has_subclass', subcls) not in graph:\n",
    "            graph.append((entity, 'has_subclass', subcls))\n",
    "        if (subcls, 'subclass_of', entity) not in graph:\n",
    "            graph.append((subcls, 'subclass_of', entity))\n",
    "\n",
    "    return graph\n",
    "\n",
    "def _populate_subclass_rel(graph):\n",
    "    \"\"\"Helper: Ensure 'subclass_of' and 'has_subclass' always appear in pairs.\n",
    "    \"\"\"\n",
    "    for edge in graph:\n",
    "        if edge[1] == 'subclass_of' and (edge[2], 'has_subclass', edge[0]) not in graph:\n",
    "            graph.append((edge[2], 'has_subclass', edge[0]))\n",
    "        elif edge[1] == 'has_subclass' and (edge[2], 'subclass_of', edge[0]) not in graph:\n",
    "            graph.append((edge[2], 'subclass_of', edge[0]))\n",
    "    return graph\n",
    "\n",
    "def _process_instances(entity, graph):\n",
    "    \"\"\"Helper: Append individuals.\n",
    "    \"\"\"\n",
    "    # Safely grab all individuals\n",
    "    try:\n",
    "        instances = entity.instances()\n",
    "    except:\n",
    "        instances = []\n",
    "\n",
    "    for instance in instances:\n",
    "        if instance.is_a[0] == entity:\n",
    "            if (entity, 'has_individual', instance) not in graph:\n",
    "                graph.append((entity, 'has_individual', instance))\n",
    "\n",
    "    return graph\n",
    "\n",
    "def generate_knowledge_graph(entity):\n",
    "    \"\"\"Helper function to grab entity-relation from onto and \n",
    "    return as knowledge graph.\n",
    "    \"\"\"\n",
    "    graph = []\n",
    "\n",
    "    # Part 1: Append subclasses\n",
    "    graph = _process_subclasses(entity, graph)\n",
    "\n",
    "    # Part 2: Collect equivalent_to\n",
    "    try:\n",
    "        equivalent_to_list = entity.INDIRECT_equivalent_to  # NOTE: Weird bug here, have to use INDIRECT\n",
    "    except:\n",
    "        equivalent_to_list = []\n",
    "    for et in equivalent_to_list:\n",
    "        # equivalent_to AND objects:\n",
    "        if et.__module__ == 'owlready2.class_construct':\n",
    "            for x in et.Classes:\n",
    "                # For class restriction, retrieve relevant infos inside\n",
    "                if x.__module__ == 'owlready2.class_construct':\n",
    "                    graph = _process_restriction(x, entity, graph)\n",
    "                    \n",
    "    # Part 3: Look into is_a\n",
    "    is_a_list = entity.is_a\n",
    "    for x in is_a_list:\n",
    "        # Entity: is_a indicates subclasses\n",
    "        if x.__module__ == 'owlready2.entity':\n",
    "            graph = _process_entity(x, 'subclass_of', entity, graph)\n",
    "                \n",
    "        # Restriction\n",
    "        elif x.__module__ == 'owlready2.class_construct':\n",
    "            graph = _process_restriction(x, entity, graph)\n",
    "        \n",
    "    # Part 4: Look into instances\n",
    "    graph = _process_instances(entity, graph)\n",
    "    \n",
    "    # Part 5: Some additional filters\n",
    "    graph = _populate_subclass_rel(graph)\n",
    "    \n",
    "    return graph\n",
    "\n",
    "def _filter_graph(graph, onto):\n",
    "    \"\"\"Helper: filter graph from some ill-logical entries.\n",
    "    \"\"\"\n",
    "    filtered_graph = []\n",
    "    # Grab all individuals\n",
    "    individuals = list(onto.individuals())\n",
    "\n",
    "    for edge in graph:\n",
    "        passed = True\n",
    "        # Ill-logical individuals\n",
    "        if edge[0] in individuals:\n",
    "            passed = False\n",
    "        if passed:\n",
    "            filtered_graph.append(edge)\n",
    "    return filtered_graph\n",
    "\n",
    "def keyword_search_onto(keyword, onto):\n",
    "    \"\"\"Search and index key entity from onto given keyword.\n",
    "    \"\"\"\n",
    "    classes = list(onto.classes())\n",
    "    classes_str = [x.name for x in classes]\n",
    "    all_res = difflib.get_close_matches(keyword, classes_str)\n",
    "    # Only grab the most probable search keyword\n",
    "    if len(all_res) > 0:\n",
    "        res = all_res[0]\n",
    "        return classes[classes_str.index(res)]\n",
    "    else:\n",
    "        return None\n",
    "\n",
    "def _to_string(graph):\n",
    "    \"\"\"Helper: Convert everything collected inside graph list into\n",
    "    string.\n",
    "    \"\"\"\n",
    "    for i in range(len(graph)):\n",
    "        edge = list(graph[i])\n",
    "        for k in range(len(edge)):\n",
    "            if type(edge[k]) is not str:\n",
    "                edge[k] = edge[k].name\n",
    "            edge[k] = edge[k].replace(',', ', ')\n",
    "        graph[i] = (edge[0], edge[1], edge[2])\n",
    "    return graph\n",
    "\n",
    "def ontograf_simple(orig_entity, onto):\n",
    "    \"\"\"Interface func to search and retrieve infor for a given\n",
    "    entity inside onto.\n",
    "    \"\"\"\n",
    "    if orig_entity is None:\n",
    "        return []\n",
    "    \n",
    "    # Initial graph search\n",
    "    graph = generate_knowledge_graph(orig_entity)\n",
    "    \n",
    "    # Prep for other key entities given the initial graph\n",
    "    entities = []\n",
    "    for edge in graph:\n",
    "        entities.append(edge[2])\n",
    "\n",
    "    # 1st-level of filters, append more info from children and parent nodes\n",
    "    for entity in entities:\n",
    "        sub_graph = generate_knowledge_graph(entity)\n",
    "        for edge in sub_graph:\n",
    "            if edge[2] == orig_entity:\n",
    "                if (entity, edge[1], orig_entity) not in graph and entity != orig_entity:\n",
    "                    graph.append((entity, edge[1], orig_entity))\n",
    "\n",
    "    # 2nd-level of filters, filter some ill-logical nodes\n",
    "    graph = _filter_graph(graph, onto)\n",
    "\n",
    "    # Convert everything inside graph into str\n",
    "    graph = _to_string(graph)\n",
    "\n",
    "    return graph"
   ]
  },
  {
   "cell_type": "code",
   "execution_count": 9,
   "metadata": {},
   "outputs": [],
   "source": [
    "def convert_to_graphviz(graph, name='KG'):\n",
    "    \"\"\"Helper function to convert edge graph into graphviz.Digraph.\n",
    "    \"\"\"\n",
    "    e = graphviz.Digraph(name)\n",
    "    e.attr('node', shape='box')\n",
    "    for edge in graph:\n",
    "        e.attr('node', shape='box')\n",
    "        e.node(edge[0])\n",
    "        e.node(edge[2])\n",
    "        e.edge(edge[0], edge[2], label=edge[1])\n",
    "    return e"
   ]
  },
  {
   "cell_type": "code",
   "execution_count": 11,
   "metadata": {},
   "outputs": [
    {
     "name": "stdout",
     "output_type": "stream",
     "text": [
      "--------------------\n",
      "False gist.Project\n",
      "[('Project', 'hasSubTask, some', 'Task')]\n"
     ]
    },
    {
     "data": {
      "image/svg+xml": [
       "<?xml version=\"1.0\" encoding=\"UTF-8\" standalone=\"no\"?>\n",
       "<!DOCTYPE svg PUBLIC \"-//W3C//DTD SVG 1.1//EN\"\n",
       " \"http://www.w3.org/Graphics/SVG/1.1/DTD/svg11.dtd\">\n",
       "<!-- Generated by graphviz version 2.40.1 (20161225.0304)\n",
       " -->\n",
       "<!-- Title: KG Pages: 1 -->\n",
       "<svg width=\"141pt\" height=\"131pt\"\n",
       " viewBox=\"0.00 0.00 141.00 131.00\" xmlns=\"http://www.w3.org/2000/svg\" xmlns:xlink=\"http://www.w3.org/1999/xlink\">\n",
       "<g id=\"graph0\" class=\"graph\" transform=\"scale(1 1) rotate(0) translate(4 127)\">\n",
       "<title>KG</title>\n",
       "<polygon fill=\"#ffffff\" stroke=\"transparent\" points=\"-4,4 -4,-127 137,-127 137,4 -4,4\"/>\n",
       "<!-- Project -->\n",
       "<g id=\"node1\" class=\"node\">\n",
       "<title>Project</title>\n",
       "<polygon fill=\"none\" stroke=\"#000000\" points=\"56,-123 0,-123 0,-87 56,-87 56,-123\"/>\n",
       "<text text-anchor=\"middle\" x=\"28\" y=\"-101.3\" font-family=\"Times,serif\" font-size=\"14.00\" fill=\"#000000\">Project</text>\n",
       "</g>\n",
       "<!-- Task -->\n",
       "<g id=\"node2\" class=\"node\">\n",
       "<title>Task</title>\n",
       "<polygon fill=\"none\" stroke=\"#000000\" points=\"55,-36 1,-36 1,0 55,0 55,-36\"/>\n",
       "<text text-anchor=\"middle\" x=\"28\" y=\"-14.3\" font-family=\"Times,serif\" font-size=\"14.00\" fill=\"#000000\">Task</text>\n",
       "</g>\n",
       "<!-- Project&#45;&gt;Task -->\n",
       "<g id=\"edge1\" class=\"edge\">\n",
       "<title>Project&#45;&gt;Task</title>\n",
       "<path fill=\"none\" stroke=\"#000000\" d=\"M28,-86.9735C28,-75.1918 28,-59.5607 28,-46.1581\"/>\n",
       "<polygon fill=\"#000000\" stroke=\"#000000\" points=\"31.5001,-46.0033 28,-36.0034 24.5001,-46.0034 31.5001,-46.0033\"/>\n",
       "<text text-anchor=\"middle\" x=\"80.5\" y=\"-57.8\" font-family=\"Times,serif\" font-size=\"14.00\" fill=\"#000000\">hasSubTask, some</text>\n",
       "</g>\n",
       "</g>\n",
       "</svg>\n"
      ],
      "text/plain": [
       "<graphviz.dot.Digraph at 0x10cc477c0>"
      ]
     },
     "execution_count": 11,
     "metadata": {},
     "output_type": "execute_result"
    }
   ],
   "source": [
    "print('-'*20)\n",
    "entity = keyword_search_onto('Project', onto)\n",
    "print(entity == onto.Thing, entity)\n",
    "kg = ontograf_simple(entity, onto)\n",
    "print(kg)\n",
    "convert_to_graphviz(kg)"
   ]
  },
  {
   "cell_type": "code",
   "execution_count": 27,
   "metadata": {},
   "outputs": [
    {
     "name": "stdout",
     "output_type": "stream",
     "text": [
      "--------------------\n",
      "False gist.Project\n",
      "[('Project', 'hasSubTask, some', 'Task')]\n"
     ]
    },
    {
     "data": {
      "image/svg+xml": [
       "<?xml version=\"1.0\" encoding=\"UTF-8\" standalone=\"no\"?>\n",
       "<!DOCTYPE svg PUBLIC \"-//W3C//DTD SVG 1.1//EN\"\n",
       " \"http://www.w3.org/Graphics/SVG/1.1/DTD/svg11.dtd\">\n",
       "<!-- Generated by graphviz version 2.40.1 (20161225.0304)\n",
       " -->\n",
       "<!-- Title: KG Pages: 1 -->\n",
       "<svg width=\"141pt\" height=\"131pt\"\n",
       " viewBox=\"0.00 0.00 141.00 131.00\" xmlns=\"http://www.w3.org/2000/svg\" xmlns:xlink=\"http://www.w3.org/1999/xlink\">\n",
       "<g id=\"graph0\" class=\"graph\" transform=\"scale(1 1) rotate(0) translate(4 127)\">\n",
       "<title>KG</title>\n",
       "<polygon fill=\"#ffffff\" stroke=\"transparent\" points=\"-4,4 -4,-127 137,-127 137,4 -4,4\"/>\n",
       "<!-- Project -->\n",
       "<g id=\"node1\" class=\"node\">\n",
       "<title>Project</title>\n",
       "<polygon fill=\"none\" stroke=\"#000000\" points=\"56,-123 0,-123 0,-87 56,-87 56,-123\"/>\n",
       "<text text-anchor=\"middle\" x=\"28\" y=\"-101.3\" font-family=\"Times,serif\" font-size=\"14.00\" fill=\"#000000\">Project</text>\n",
       "</g>\n",
       "<!-- Task -->\n",
       "<g id=\"node2\" class=\"node\">\n",
       "<title>Task</title>\n",
       "<polygon fill=\"none\" stroke=\"#000000\" points=\"55,-36 1,-36 1,0 55,0 55,-36\"/>\n",
       "<text text-anchor=\"middle\" x=\"28\" y=\"-14.3\" font-family=\"Times,serif\" font-size=\"14.00\" fill=\"#000000\">Task</text>\n",
       "</g>\n",
       "<!-- Project&#45;&gt;Task -->\n",
       "<g id=\"edge1\" class=\"edge\">\n",
       "<title>Project&#45;&gt;Task</title>\n",
       "<path fill=\"none\" stroke=\"#000000\" d=\"M28,-86.9735C28,-75.1918 28,-59.5607 28,-46.1581\"/>\n",
       "<polygon fill=\"#000000\" stroke=\"#000000\" points=\"31.5001,-46.0033 28,-36.0034 24.5001,-46.0034 31.5001,-46.0033\"/>\n",
       "<text text-anchor=\"middle\" x=\"80.5\" y=\"-57.8\" font-family=\"Times,serif\" font-size=\"14.00\" fill=\"#000000\">hasSubTask, some</text>\n",
       "</g>\n",
       "</g>\n",
       "</svg>\n"
      ],
      "text/plain": [
       "<graphviz.dot.Digraph at 0x108452880>"
      ]
     },
     "execution_count": 27,
     "metadata": {},
     "output_type": "execute_result"
    }
   ],
   "source": [
    "print('-'*20)\n",
    "entity = keyword_search_onto('Project', onto)\n",
    "print(entity == onto.Project, entity)\n",
    "kg = ontograf_simple(entity, onto)\n",
    "print(kg)\n",
    "convert_to_graphviz(kg)"
   ]
  },
  {
   "cell_type": "code",
   "execution_count": 28,
   "metadata": {},
   "outputs": [
    {
     "name": "stdout",
     "output_type": "stream",
     "text": [
      "--------------------\n",
      "True None\n",
      "[]\n"
     ]
    },
    {
     "data": {
      "image/svg+xml": [
       "<?xml version=\"1.0\" encoding=\"UTF-8\" standalone=\"no\"?>\n",
       "<!DOCTYPE svg PUBLIC \"-//W3C//DTD SVG 1.1//EN\"\n",
       " \"http://www.w3.org/Graphics/SVG/1.1/DTD/svg11.dtd\">\n",
       "<!-- Generated by graphviz version 2.40.1 (20161225.0304)\n",
       " -->\n",
       "<!-- Title: KG Pages: 1 -->\n",
       "<svg width=\"8pt\" height=\"8pt\"\n",
       " viewBox=\"0.00 0.00 8.00 8.00\" xmlns=\"http://www.w3.org/2000/svg\" xmlns:xlink=\"http://www.w3.org/1999/xlink\">\n",
       "<g id=\"graph0\" class=\"graph\" transform=\"scale(1 1) rotate(0) translate(4 4)\">\n",
       "<title>KG</title>\n",
       "<polygon fill=\"#ffffff\" stroke=\"transparent\" points=\"-4,4 -4,-4 4,-4 4,4 -4,4\"/>\n",
       "</g>\n",
       "</svg>\n"
      ],
      "text/plain": [
       "<graphviz.dot.Digraph at 0x1082db700>"
      ]
     },
     "execution_count": 28,
     "metadata": {},
     "output_type": "execute_result"
    }
   ],
   "source": [
    "print('-'*20)\n",
    "entity = keyword_search_onto('bottle', onto)\n",
    "print(entity == onto.Bottle, entity)\n",
    "kg = ontograf_simple(entity, onto)\n",
    "print(kg)\n",
    "convert_to_graphviz(kg)"
   ]
  },
  {
   "cell_type": "code",
   "execution_count": 29,
   "metadata": {},
   "outputs": [
    {
     "name": "stdout",
     "output_type": "stream",
     "text": [
      "--------------------\n",
      "False gist.Task\n",
      "[('Task', 'hasGoal, some', 'Intention')]\n"
     ]
    },
    {
     "data": {
      "image/svg+xml": [
       "<?xml version=\"1.0\" encoding=\"UTF-8\" standalone=\"no\"?>\n",
       "<!DOCTYPE svg PUBLIC \"-//W3C//DTD SVG 1.1//EN\"\n",
       " \"http://www.w3.org/Graphics/SVG/1.1/DTD/svg11.dtd\">\n",
       "<!-- Generated by graphviz version 2.40.1 (20161225.0304)\n",
       " -->\n",
       "<!-- Title: KG Pages: 1 -->\n",
       "<svg width=\"125pt\" height=\"131pt\"\n",
       " viewBox=\"0.00 0.00 124.50 131.00\" xmlns=\"http://www.w3.org/2000/svg\" xmlns:xlink=\"http://www.w3.org/1999/xlink\">\n",
       "<g id=\"graph0\" class=\"graph\" transform=\"scale(1 1) rotate(0) translate(4 127)\">\n",
       "<title>KG</title>\n",
       "<polygon fill=\"#ffffff\" stroke=\"transparent\" points=\"-4,4 -4,-127 120.5,-127 120.5,4 -4,4\"/>\n",
       "<!-- Task -->\n",
       "<g id=\"node1\" class=\"node\">\n",
       "<title>Task</title>\n",
       "<polygon fill=\"none\" stroke=\"#000000\" points=\"60.5,-123 6.5,-123 6.5,-87 60.5,-87 60.5,-123\"/>\n",
       "<text text-anchor=\"middle\" x=\"33.5\" y=\"-101.3\" font-family=\"Times,serif\" font-size=\"14.00\" fill=\"#000000\">Task</text>\n",
       "</g>\n",
       "<!-- Intention -->\n",
       "<g id=\"node2\" class=\"node\">\n",
       "<title>Intention</title>\n",
       "<polygon fill=\"none\" stroke=\"#000000\" points=\"67,-36 0,-36 0,0 67,0 67,-36\"/>\n",
       "<text text-anchor=\"middle\" x=\"33.5\" y=\"-14.3\" font-family=\"Times,serif\" font-size=\"14.00\" fill=\"#000000\">Intention</text>\n",
       "</g>\n",
       "<!-- Task&#45;&gt;Intention -->\n",
       "<g id=\"edge1\" class=\"edge\">\n",
       "<title>Task&#45;&gt;Intention</title>\n",
       "<path fill=\"none\" stroke=\"#000000\" d=\"M33.5,-86.9735C33.5,-75.1918 33.5,-59.5607 33.5,-46.1581\"/>\n",
       "<polygon fill=\"#000000\" stroke=\"#000000\" points=\"37.0001,-46.0033 33.5,-36.0034 30.0001,-46.0034 37.0001,-46.0033\"/>\n",
       "<text text-anchor=\"middle\" x=\"75\" y=\"-57.8\" font-family=\"Times,serif\" font-size=\"14.00\" fill=\"#000000\">hasGoal, some</text>\n",
       "</g>\n",
       "</g>\n",
       "</svg>\n"
      ],
      "text/plain": [
       "<graphviz.dot.Digraph at 0x1083e5550>"
      ]
     },
     "execution_count": 29,
     "metadata": {},
     "output_type": "execute_result"
    }
   ],
   "source": [
    "print('-'*20)\n",
    "entity = keyword_search_onto('Task', onto)\n",
    "print(entity == onto.Task, entity)\n",
    "kg = ontograf_simple(entity, onto)\n",
    "print(kg)\n",
    "convert_to_graphviz(kg)"
   ]
  },
  {
   "cell_type": "code",
   "execution_count": 30,
   "metadata": {},
   "outputs": [
    {
     "name": "stdout",
     "output_type": "stream",
     "text": [
      "--------------------\n",
      "False gist.Intention\n",
      "[('Intention', 'has_subclass', 'Function'), ('Function', 'subclass_of', 'Intention'), ('Intention', 'has_subclass', 'Requirement'), ('Requirement', 'subclass_of', 'Intention'), ('Intention', 'has_subclass', 'Goal'), ('Goal', 'subclass_of', 'Intention')]\n"
     ]
    },
    {
     "data": {
      "image/svg+xml": [
       "<?xml version=\"1.0\" encoding=\"UTF-8\" standalone=\"no\"?>\n",
       "<!DOCTYPE svg PUBLIC \"-//W3C//DTD SVG 1.1//EN\"\n",
       " \"http://www.w3.org/Graphics/SVG/1.1/DTD/svg11.dtd\">\n",
       "<!-- Generated by graphviz version 2.40.1 (20161225.0304)\n",
       " -->\n",
       "<!-- Title: KG Pages: 1 -->\n",
       "<svg width=\"517pt\" height=\"131pt\"\n",
       " viewBox=\"0.00 0.00 517.40 131.00\" xmlns=\"http://www.w3.org/2000/svg\" xmlns:xlink=\"http://www.w3.org/1999/xlink\">\n",
       "<g id=\"graph0\" class=\"graph\" transform=\"scale(1 1) rotate(0) translate(4 127)\">\n",
       "<title>KG</title>\n",
       "<polygon fill=\"#ffffff\" stroke=\"transparent\" points=\"-4,4 -4,-127 513.4006,-127 513.4006,4 -4,4\"/>\n",
       "<!-- Intention -->\n",
       "<g id=\"node1\" class=\"node\">\n",
       "<title>Intention</title>\n",
       "<polygon fill=\"none\" stroke=\"#000000\" points=\"269.9006,-123 202.9006,-123 202.9006,-87 269.9006,-87 269.9006,-123\"/>\n",
       "<text text-anchor=\"middle\" x=\"236.4006\" y=\"-101.3\" font-family=\"Times,serif\" font-size=\"14.00\" fill=\"#000000\">Intention</text>\n",
       "</g>\n",
       "<!-- Function -->\n",
       "<g id=\"node2\" class=\"node\">\n",
       "<title>Function</title>\n",
       "<polygon fill=\"none\" stroke=\"#000000\" points=\"106.4006,-36 40.4006,-36 40.4006,0 106.4006,0 106.4006,-36\"/>\n",
       "<text text-anchor=\"middle\" x=\"73.4006\" y=\"-14.3\" font-family=\"Times,serif\" font-size=\"14.00\" fill=\"#000000\">Function</text>\n",
       "</g>\n",
       "<!-- Intention&#45;&gt;Function -->\n",
       "<g id=\"edge1\" class=\"edge\">\n",
       "<title>Intention&#45;&gt;Function</title>\n",
       "<path fill=\"none\" stroke=\"#000000\" d=\"M202.5374,-102.1607C141.2654,-96.6786 17.1301,-83.8572 4.4006,-69 -8.2635,-54.2193 9.9756,-41.2407 30.8707,-32.0751\"/>\n",
       "<polygon fill=\"#000000\" stroke=\"#000000\" points=\"32.2889,-35.2768 40.23,-28.2632 29.6484,-28.7939 32.2889,-35.2768\"/>\n",
       "<text text-anchor=\"middle\" x=\"40.9006\" y=\"-57.8\" font-family=\"Times,serif\" font-size=\"14.00\" fill=\"#000000\">has_subclass</text>\n",
       "</g>\n",
       "<!-- Requirement -->\n",
       "<g id=\"node3\" class=\"node\">\n",
       "<title>Requirement</title>\n",
       "<polygon fill=\"none\" stroke=\"#000000\" points=\"257.9006,-36 168.9006,-36 168.9006,0 257.9006,0 257.9006,-36\"/>\n",
       "<text text-anchor=\"middle\" x=\"213.4006\" y=\"-14.3\" font-family=\"Times,serif\" font-size=\"14.00\" fill=\"#000000\">Requirement</text>\n",
       "</g>\n",
       "<!-- Intention&#45;&gt;Requirement -->\n",
       "<g id=\"edge3\" class=\"edge\">\n",
       "<title>Intention&#45;&gt;Requirement</title>\n",
       "<path fill=\"none\" stroke=\"#000000\" d=\"M204.017,-86.6265C198.1152,-81.7054 192.7675,-75.8201 189.4006,-69 185.4979,-61.0947 187.3146,-52.437 191.3085,-44.5357\"/>\n",
       "<polygon fill=\"#000000\" stroke=\"#000000\" points=\"194.2911,-46.367 196.5539,-36.0166 188.3304,-42.6968 194.2911,-46.367\"/>\n",
       "<text text-anchor=\"middle\" x=\"225.9006\" y=\"-57.8\" font-family=\"Times,serif\" font-size=\"14.00\" fill=\"#000000\">has_subclass</text>\n",
       "</g>\n",
       "<!-- Goal -->\n",
       "<g id=\"node4\" class=\"node\">\n",
       "<title>Goal</title>\n",
       "<polygon fill=\"none\" stroke=\"#000000\" points=\"448.4006,-36 394.4006,-36 394.4006,0 448.4006,0 448.4006,-36\"/>\n",
       "<text text-anchor=\"middle\" x=\"421.4006\" y=\"-14.3\" font-family=\"Times,serif\" font-size=\"14.00\" fill=\"#000000\">Goal</text>\n",
       "</g>\n",
       "<!-- Intention&#45;&gt;Goal -->\n",
       "<g id=\"edge5\" class=\"edge\">\n",
       "<title>Intention&#45;&gt;Goal</title>\n",
       "<path fill=\"none\" stroke=\"#000000\" d=\"M270.031,-94.5104C289.4911,-88.0138 314.2411,-79.0138 335.4006,-69 352.4514,-60.9307 370.5232,-50.522 385.6767,-41.2142\"/>\n",
       "<polygon fill=\"#000000\" stroke=\"#000000\" points=\"387.5931,-44.144 394.2319,-35.8871 383.893,-38.2018 387.5931,-44.144\"/>\n",
       "<text text-anchor=\"middle\" x=\"398.9006\" y=\"-57.8\" font-family=\"Times,serif\" font-size=\"14.00\" fill=\"#000000\">has_subclass</text>\n",
       "</g>\n",
       "<!-- Function&#45;&gt;Intention -->\n",
       "<g id=\"edge2\" class=\"edge\">\n",
       "<title>Function&#45;&gt;Intention</title>\n",
       "<path fill=\"none\" stroke=\"#000000\" d=\"M85.2601,-36.3841C93.1644,-47.2913 104.4582,-60.5878 117.4006,-69 140.1242,-83.7699 169.1847,-92.7116 192.8992,-97.9892\"/>\n",
       "<polygon fill=\"#000000\" stroke=\"#000000\" points=\"192.1973,-101.4181 202.7012,-100.033 193.6262,-94.5654 192.1973,-101.4181\"/>\n",
       "<text text-anchor=\"middle\" x=\"150.4006\" y=\"-57.8\" font-family=\"Times,serif\" font-size=\"14.00\" fill=\"#000000\">subclass_of</text>\n",
       "</g>\n",
       "<!-- Requirement&#45;&gt;Intention -->\n",
       "<g id=\"edge4\" class=\"edge\">\n",
       "<title>Requirement&#45;&gt;Intention</title>\n",
       "<path fill=\"none\" stroke=\"#000000\" d=\"M247.1354,-36.1471C253.2901,-41.0822 258.8727,-47.0305 262.4006,-54 266.3791,-61.8599 264.4853,-70.3912 260.3088,-78.1866\"/>\n",
       "<polygon fill=\"#000000\" stroke=\"#000000\" points=\"257.3518,-76.3136 254.8149,-86.6002 263.2129,-80.1408 257.3518,-76.3136\"/>\n",
       "<text text-anchor=\"middle\" x=\"298.4006\" y=\"-57.8\" font-family=\"Times,serif\" font-size=\"14.00\" fill=\"#000000\">subclass_of</text>\n",
       "</g>\n",
       "<!-- Goal&#45;&gt;Intention -->\n",
       "<g id=\"edge6\" class=\"edge\">\n",
       "<title>Goal&#45;&gt;Intention</title>\n",
       "<path fill=\"none\" stroke=\"#000000\" d=\"M435.8884,-36.1041C442.4778,-46.6402 447.242,-59.6456 439.4006,-69 419.5145,-92.7229 333.8282,-100.8232 280.3371,-103.5821\"/>\n",
       "<polygon fill=\"#000000\" stroke=\"#000000\" points=\"279.9209,-100.0977 270.0972,-104.0657 280.2512,-107.0899 279.9209,-100.0977\"/>\n",
       "<text text-anchor=\"middle\" x=\"476.4006\" y=\"-57.8\" font-family=\"Times,serif\" font-size=\"14.00\" fill=\"#000000\">subclass_of</text>\n",
       "</g>\n",
       "</g>\n",
       "</svg>\n"
      ],
      "text/plain": [
       "<graphviz.dot.Digraph at 0x1082c1c10>"
      ]
     },
     "execution_count": 30,
     "metadata": {},
     "output_type": "execute_result"
    }
   ],
   "source": [
    "print('-'*20)\n",
    "entity = keyword_search_onto('Intention', onto)\n",
    "print(entity == onto.Intention, entity)\n",
    "kg = ontograf_simple(entity, onto)\n",
    "print(kg)\n",
    "convert_to_graphviz(kg)"
   ]
  },
  {
   "cell_type": "code",
   "execution_count": 20,
   "metadata": {},
   "outputs": [
    {
     "name": "stdout",
     "output_type": "stream",
     "text": [
      "--------------------\n",
      "True None\n",
      "[]\n"
     ]
    },
    {
     "data": {
      "image/svg+xml": [
       "<?xml version=\"1.0\" encoding=\"UTF-8\" standalone=\"no\"?>\n",
       "<!DOCTYPE svg PUBLIC \"-//W3C//DTD SVG 1.1//EN\"\n",
       " \"http://www.w3.org/Graphics/SVG/1.1/DTD/svg11.dtd\">\n",
       "<!-- Generated by graphviz version 2.40.1 (20161225.0304)\n",
       " -->\n",
       "<!-- Title: KG Pages: 1 -->\n",
       "<svg width=\"8pt\" height=\"8pt\"\n",
       " viewBox=\"0.00 0.00 8.00 8.00\" xmlns=\"http://www.w3.org/2000/svg\" xmlns:xlink=\"http://www.w3.org/1999/xlink\">\n",
       "<g id=\"graph0\" class=\"graph\" transform=\"scale(1 1) rotate(0) translate(4 4)\">\n",
       "<title>KG</title>\n",
       "<polygon fill=\"#ffffff\" stroke=\"transparent\" points=\"-4,4 -4,-4 4,-4 4,4 -4,4\"/>\n",
       "</g>\n",
       "</svg>\n"
      ],
      "text/plain": [
       "<graphviz.dot.Digraph at 0x1083e56d0>"
      ]
     },
     "execution_count": 20,
     "metadata": {},
     "output_type": "execute_result"
    }
   ],
   "source": [
    "print('-'*20)\n",
    "entity = keyword_search_onto('glassbottle', onto)\n",
    "print(entity == onto.HumanHand, entity)\n",
    "kg = ontograf_simple(entity, onto)\n",
    "print(kg)\n",
    "convert_to_graphviz(kg)"
   ]
  },
  {
   "cell_type": "code",
   "execution_count": 21,
   "metadata": {},
   "outputs": [
    {
     "name": "stdout",
     "output_type": "stream",
     "text": [
      "--------------------\n",
      "True None\n",
      "[]\n"
     ]
    },
    {
     "data": {
      "image/svg+xml": [
       "<?xml version=\"1.0\" encoding=\"UTF-8\" standalone=\"no\"?>\n",
       "<!DOCTYPE svg PUBLIC \"-//W3C//DTD SVG 1.1//EN\"\n",
       " \"http://www.w3.org/Graphics/SVG/1.1/DTD/svg11.dtd\">\n",
       "<!-- Generated by graphviz version 2.40.1 (20161225.0304)\n",
       " -->\n",
       "<!-- Title: KG Pages: 1 -->\n",
       "<svg width=\"8pt\" height=\"8pt\"\n",
       " viewBox=\"0.00 0.00 8.00 8.00\" xmlns=\"http://www.w3.org/2000/svg\" xmlns:xlink=\"http://www.w3.org/1999/xlink\">\n",
       "<g id=\"graph0\" class=\"graph\" transform=\"scale(1 1) rotate(0) translate(4 4)\">\n",
       "<title>KG</title>\n",
       "<polygon fill=\"#ffffff\" stroke=\"transparent\" points=\"-4,4 -4,-4 4,-4 4,4 -4,4\"/>\n",
       "</g>\n",
       "</svg>\n"
      ],
      "text/plain": [
       "<graphviz.dot.Digraph at 0x1083e5a30>"
      ]
     },
     "execution_count": 21,
     "metadata": {},
     "output_type": "execute_result"
    }
   ],
   "source": [
    "print('-'*20)\n",
    "entity = keyword_search_onto('cold', onto)\n",
    "print(entity == onto.HumanHand, entity)\n",
    "kg = ontograf_simple(entity, onto)\n",
    "print(kg)\n",
    "convert_to_graphviz(kg)"
   ]
  },
  {
   "cell_type": "code",
   "execution_count": 16,
   "metadata": {},
   "outputs": [
    {
     "name": "stdout",
     "output_type": "stream",
     "text": [
      "--------------------\n",
      "True None\n",
      "[]\n"
     ]
    },
    {
     "data": {
      "image/svg+xml": [
       "<?xml version=\"1.0\" encoding=\"UTF-8\" standalone=\"no\"?>\n",
       "<!DOCTYPE svg PUBLIC \"-//W3C//DTD SVG 1.1//EN\"\n",
       " \"http://www.w3.org/Graphics/SVG/1.1/DTD/svg11.dtd\">\n",
       "<!-- Generated by graphviz version 2.40.1 (20161225.0304)\n",
       " -->\n",
       "<!-- Title: KG Pages: 1 -->\n",
       "<svg width=\"8pt\" height=\"8pt\"\n",
       " viewBox=\"0.00 0.00 8.00 8.00\" xmlns=\"http://www.w3.org/2000/svg\" xmlns:xlink=\"http://www.w3.org/1999/xlink\">\n",
       "<g id=\"graph0\" class=\"graph\" transform=\"scale(1 1) rotate(0) translate(4 4)\">\n",
       "<title>KG</title>\n",
       "<polygon fill=\"#ffffff\" stroke=\"transparent\" points=\"-4,4 -4,-4 4,-4 4,4 -4,4\"/>\n",
       "</g>\n",
       "</svg>\n"
      ],
      "text/plain": [
       "<graphviz.dot.Digraph at 0x7ff5194463c8>"
      ]
     },
     "execution_count": 16,
     "metadata": {},
     "output_type": "execute_result"
    }
   ],
   "source": [
    "print('-'*20)\n",
    "entity = keyword_search_onto('hello', onto)\n",
    "print(entity == onto.HumanHand, entity)\n",
    "kg = ontograf_simple(entity, onto)\n",
    "print(kg)\n",
    "convert_to_graphviz(kg)"
   ]
  }
 ],
 "metadata": {
  "kernelspec": {
   "display_name": "Python 3",
   "language": "python",
   "name": "python3"
  },
  "language_info": {
   "codemirror_mode": {
    "name": "ipython",
    "version": 3
   },
   "file_extension": ".py",
   "mimetype": "text/x-python",
   "name": "python",
   "nbconvert_exporter": "python",
   "pygments_lexer": "ipython3",
   "version": "3.8.5"
  }
 },
 "nbformat": 4,
 "nbformat_minor": 4
}
