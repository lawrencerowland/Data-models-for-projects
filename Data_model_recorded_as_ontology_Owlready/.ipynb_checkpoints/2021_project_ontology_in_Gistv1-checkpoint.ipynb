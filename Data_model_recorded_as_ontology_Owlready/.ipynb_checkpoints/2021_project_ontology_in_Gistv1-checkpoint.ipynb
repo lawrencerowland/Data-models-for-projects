{
 "cells": [
  {
   "cell_type": "code",
   "execution_count": 57,
   "metadata": {},
   "outputs": [],
   "source": [
    "import os\n",
    "import graphviz\n",
    "import owlready2 as owl\n",
    "import weakref"
   ]
  },
  {
   "cell_type": "code",
   "execution_count": 58,
   "metadata": {},
   "outputs": [
    {
     "name": "stdout",
     "output_type": "stream",
     "text": [
      "Loaded owl file at: file:///Users/lawrence/Documents/GitHub/Data-models-for-projects/Data_model_recorded_as_ontology_Owlready/ontologies/gistCore9.5.0\n"
     ]
    }
   ],
   "source": [
    "onto_path = 'file://' + os.path.abspath('ontologies/gistCore9.5.0')\n",
    "onto = owl.get_ontology(onto_path).load()\n",
    "print('Loaded owl file at:', onto_path)"
   ]
  },
  {
   "cell_type": "code",
   "execution_count": 59,
   "metadata": {},
   "outputs": [
    {
     "name": "stdout",
     "output_type": "stream",
     "text": [
      "[gist.Project, gist.Project_1, gist.Project_2, gist.Project_3, gist.Project4, gist.Project0, gist.Project1, gist.Project2]\n",
      "[gist.Task, gist.hasSubTask, gist.ScheduledTask, gist.hasDirectSubTask]\n"
     ]
    }
   ],
   "source": [
    "# FIND THE CLASSES OF INTEREST\n",
    "Project_class=onto.search(iri='*Project*')\n",
    "print(Project_class)\n",
    "Task_class=onto.search(iri='*Task')\n",
    "print(Task_class)"
   ]
  },
  {
   "cell_type": "code",
   "execution_count": 60,
   "metadata": {},
   "outputs": [],
   "source": [
    "# SELECT THE CLASSES OF INTEREST FROM SEARCH RESULTS\n",
    "Project_class_actually=Project_class[0]=Project_class[0]\n",
    "Task_class_actually=Task_class[0]"
   ]
  },
  {
   "cell_type": "code",
   "execution_count": 61,
   "metadata": {},
   "outputs": [
    {
     "name": "stdout",
     "output_type": "stream",
     "text": [
      "is a [owl.Thing]\n",
      "equivalent_to: [gist.Task & gist.hasSubTask.some(gist.Task)]\n",
      "has subclasses:  [gist.Project]\n",
      "gist.Project\n",
      "owl.Thing\n",
      "gist.Project\n",
      "{'namespace': get_ontology(\"https://ontologies.semanticarts.com/o/gistCore#\").get_namespace(\"https://ontologies.semanticarts.com/gist/\"), 'storid': 507, '_name': 'Project', 'is_a': [owl.Thing], '_equivalent_to': [gist.Task & gist.hasSubTask.some(gist.Task)], '__module__': 'owlready2.entity', '__doc__': None}\n"
     ]
    }
   ],
   "source": [
    "# HAVE A LOOK AT CLASS PROPERTIES\n",
    "print ('is a', Project_class_actually.is_a)\n",
    "print('equivalent_to:', Project_class_actually.equivalent_to)\n",
    "print('has subclasses: ', onto.search(subclass_of=Project_class_actually))\n",
    "for sc in Project_class_actually.ancestors():\n",
    "    print (sc)\n",
    "for sc in Project_class_actually.descendants():\n",
    "    print (sc)\n",
    "print(Project_class_actually.__dict__)"
   ]
  },
  {
   "cell_type": "code",
   "execution_count": 6,
   "metadata": {},
   "outputs": [],
   "source": [
    "# CREATE INSTANCES OF THIS CLASS"
   ]
  },
  {
   "cell_type": "code",
   "execution_count": 62,
   "metadata": {},
   "outputs": [
    {
     "name": "stdout",
     "output_type": "stream",
     "text": [
      "Project0     gist.Project0\n",
      "Project1     gist.Project1\n",
      "Project2     gist.Project2\n"
     ]
    }
   ],
   "source": [
    "Project=[]\n",
    "ProjectX=[]\n",
    "for p in range (0,3):\n",
    "    name='Project'+str(p)\n",
    "    Project.append(name)\n",
    "    ProjectX.append(Project_class_actually(Project[p]))\n",
    "    print (Project[p], '   ',ProjectX[p])"
   ]
  },
  {
   "cell_type": "code",
   "execution_count": 63,
   "metadata": {},
   "outputs": [
    {
     "name": "stdout",
     "output_type": "stream",
     "text": [
      "Task0     gist.Task0\n",
      "Task1     gist.Task1\n",
      "Task2     gist.Task2\n"
     ]
    }
   ],
   "source": [
    "Task=[]\n",
    "TaskX=[]\n",
    "for t in range (0,3):\n",
    "    name='Task'+str(t)\n",
    "    Task.append(name)\n",
    "    TaskX.append(Task_class_actually(Task[t]))\n",
    "    print (Task[t], '   ',TaskX[t])"
   ]
  },
  {
   "cell_type": "code",
   "execution_count": 64,
   "metadata": {},
   "outputs": [
    {
     "name": "stdout",
     "output_type": "stream",
     "text": [
      "Project_1\n",
      "https://ontologies.semanticarts.com/gist/Project_1\n",
      "Project_1\n",
      "Project_2\n",
      "Project_3\n",
      "Project4\n",
      "Project0\n",
      "Project1\n",
      "Project2\n",
      "Task_1_1\n",
      "Task_1_2\n",
      "Task_1_3\n",
      "Task0\n",
      "Task1\n",
      "Task2\n"
     ]
    }
   ],
   "source": [
    "# ACCESS INSTANCES BY GENERAL VARIABLE OR BY ITERATING THROUGH CLASS\n",
    "print (Project_1.name)\n",
    "print (Project_1.iri)\n",
    "for p in Project_class_actually.instances():\n",
    "    print (p.name)\n",
    "for t in Task_class_actually.instances():\n",
    "    print (t.name)"
   ]
  },
  {
   "cell_type": "code",
   "execution_count": 68,
   "metadata": {},
   "outputs": [],
   "source": [
    "# CREATE RELATIONSHIPS\n",
    "ProjectX[0].hasSubTask = [TaskX[0],TaskX[1]]"
   ]
  },
  {
   "cell_type": "code",
   "execution_count": 69,
   "metadata": {},
   "outputs": [
    {
     "name": "stdout",
     "output_type": "stream",
     "text": [
      "{gist.hasSubTask}\n"
     ]
    }
   ],
   "source": [
    "print (ProjectX[0].get_properties())"
   ]
  },
  {
   "cell_type": "code",
   "execution_count": 70,
   "metadata": {},
   "outputs": [
    {
     "data": {
      "text/plain": [
       "[gist.Task,\n",
       " gist.Task & gist.hasSubTask.some(gist.Task),\n",
       " gist.Event & gist.hasGoal.some(gist.Intention),\n",
       " gist.Task0,\n",
       " gist.Task1]"
      ]
     },
     "execution_count": 70,
     "metadata": {},
     "output_type": "execute_result"
    }
   ],
   "source": [
    "ProjectX[0].INDIRECT_hasSubTask"
   ]
  },
  {
   "cell_type": "code",
   "execution_count": 23,
   "metadata": {},
   "outputs": [],
   "source": [
    "# Retrieve all object properties\n",
    "properties = list(onto.object_properties())"
   ]
  },
  {
   "cell_type": "code",
   "execution_count": null,
   "metadata": {},
   "outputs": [],
   "source": [
    "properties"
   ]
  },
  {
   "cell_type": "code",
   "execution_count": 49,
   "metadata": {},
   "outputs": [],
   "source": [
    "h=onto.search(iri='*hasSubTask*')"
   ]
  },
  {
   "cell_type": "code",
   "execution_count": 53,
   "metadata": {},
   "outputs": [
    {
     "name": "stdout",
     "output_type": "stream",
     "text": [
      "{'namespace': get_ontology(\"https://ontologies.semanticarts.com/o/gistCore#\").get_namespace(\"https://ontologies.semanticarts.com/gist/\"), 'is_a': [owl.ObjectProperty, owl.TransitiveProperty], 'storid': 509, '_name': 'hasSubTask', '_equivalent_to': [], '__module__': 'owlready2.entity', '__doc__': None, '_domain': None, '_range': None, '_property_chain': None, '_inverse_property': gist.subTaskOf, '_python_name': 'hasSubTask', '_class_property_type': [], '_class_property_some': True, '_class_property_only': False, '_class_property_relation': False, '_inverse_storid': 580}\n"
     ]
    }
   ],
   "source": [
    "print(h[0].__dict__)"
   ]
  },
  {
   "cell_type": "code",
   "execution_count": 54,
   "metadata": {},
   "outputs": [
    {
     "name": "stdout",
     "output_type": "stream",
     "text": [
      "class_property_some: True\n",
      "class_property_only: False\n",
      "class_property_relation: False\n"
     ]
    }
   ],
   "source": [
    "print('class_property_some:', h[0]._class_property_some)\n",
    "print('class_property_only:', h[0]._class_property_only)\n",
    "print('class_property_relation:', h[0]._class_property_relation)"
   ]
  },
  {
   "cell_type": "code",
   "execution_count": 55,
   "metadata": {},
   "outputs": [
    {
     "name": "stdout",
     "output_type": "stream",
     "text": [
      "name(string): hasSubTask\n",
      "module_type: owlready2.entity\n",
      "is_a: [owl.ObjectProperty, owl.TransitiveProperty]\n",
      "\n"
     ]
    }
   ],
   "source": [
    "print('name(string):', h[0].name)\n",
    "print('module_type:', h[0].__module__)\n",
    "print('is_a:', h[0].is_a)\n",
    "print()"
   ]
  },
  {
   "cell_type": "code",
   "execution_count": 13,
   "metadata": {},
   "outputs": [],
   "source": [
    "#Try the same but calling the functions from *.py file\n",
    "import graph_onto as GO"
   ]
  },
  {
   "cell_type": "code",
   "execution_count": 16,
   "metadata": {},
   "outputs": [
    {
     "name": "stdout",
     "output_type": "stream",
     "text": [
      "--------------------\n"
     ]
    }
   ],
   "source": [
    "print('-'*20)\n",
    "entity = GO.keyword_search_onto('Project', onto)"
   ]
  },
  {
   "cell_type": "code",
   "execution_count": 17,
   "metadata": {},
   "outputs": [
    {
     "name": "stdout",
     "output_type": "stream",
     "text": [
      "False gist.Project\n",
      "[('Project', 'hasSubTask, some', 'Task')]\n"
     ]
    },
    {
     "data": {
      "image/svg+xml": [
       "<?xml version=\"1.0\" encoding=\"UTF-8\" standalone=\"no\"?>\n",
       "<!DOCTYPE svg PUBLIC \"-//W3C//DTD SVG 1.1//EN\"\n",
       " \"http://www.w3.org/Graphics/SVG/1.1/DTD/svg11.dtd\">\n",
       "<!-- Generated by graphviz version 2.40.1 (20161225.0304)\n",
       " -->\n",
       "<!-- Title: KG Pages: 1 -->\n",
       "<svg width=\"141pt\" height=\"131pt\"\n",
       " viewBox=\"0.00 0.00 141.00 131.00\" xmlns=\"http://www.w3.org/2000/svg\" xmlns:xlink=\"http://www.w3.org/1999/xlink\">\n",
       "<g id=\"graph0\" class=\"graph\" transform=\"scale(1 1) rotate(0) translate(4 127)\">\n",
       "<title>KG</title>\n",
       "<polygon fill=\"#ffffff\" stroke=\"transparent\" points=\"-4,4 -4,-127 137,-127 137,4 -4,4\"/>\n",
       "<!-- Project -->\n",
       "<g id=\"node1\" class=\"node\">\n",
       "<title>Project</title>\n",
       "<polygon fill=\"none\" stroke=\"#000000\" points=\"56,-123 0,-123 0,-87 56,-87 56,-123\"/>\n",
       "<text text-anchor=\"middle\" x=\"28\" y=\"-101.3\" font-family=\"Times,serif\" font-size=\"14.00\" fill=\"#000000\">Project</text>\n",
       "</g>\n",
       "<!-- Task -->\n",
       "<g id=\"node2\" class=\"node\">\n",
       "<title>Task</title>\n",
       "<polygon fill=\"none\" stroke=\"#000000\" points=\"55,-36 1,-36 1,0 55,0 55,-36\"/>\n",
       "<text text-anchor=\"middle\" x=\"28\" y=\"-14.3\" font-family=\"Times,serif\" font-size=\"14.00\" fill=\"#000000\">Task</text>\n",
       "</g>\n",
       "<!-- Project&#45;&gt;Task -->\n",
       "<g id=\"edge1\" class=\"edge\">\n",
       "<title>Project&#45;&gt;Task</title>\n",
       "<path fill=\"none\" stroke=\"#000000\" d=\"M28,-86.9735C28,-75.1918 28,-59.5607 28,-46.1581\"/>\n",
       "<polygon fill=\"#000000\" stroke=\"#000000\" points=\"31.5001,-46.0033 28,-36.0034 24.5001,-46.0034 31.5001,-46.0033\"/>\n",
       "<text text-anchor=\"middle\" x=\"80.5\" y=\"-57.8\" font-family=\"Times,serif\" font-size=\"14.00\" fill=\"#000000\">hasSubTask, some</text>\n",
       "</g>\n",
       "</g>\n",
       "</svg>\n"
      ],
      "text/plain": [
       "<graphviz.dot.Digraph at 0x10677f1c0>"
      ]
     },
     "execution_count": 17,
     "metadata": {},
     "output_type": "execute_result"
    }
   ],
   "source": [
    "print(entity == onto.Thing, entity)\n",
    "kg = ontograf_simple(entity, onto)\n",
    "print(kg)\n",
    "convert_to_graphviz(kg)"
   ]
  },
  {
   "cell_type": "code",
   "execution_count": null,
   "metadata": {},
   "outputs": [],
   "source": []
  }
 ],
 "metadata": {
  "kernelspec": {
   "display_name": "Python 3",
   "language": "python",
   "name": "python3"
  },
  "language_info": {
   "codemirror_mode": {
    "name": "ipython",
    "version": 3
   },
   "file_extension": ".py",
   "mimetype": "text/x-python",
   "name": "python",
   "nbconvert_exporter": "python",
   "pygments_lexer": "ipython3",
   "version": "3.8.5"
  }
 },
 "nbformat": 4,
 "nbformat_minor": 4
}
