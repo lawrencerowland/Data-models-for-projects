{
 "cells": [
  {
   "cell_type": "code",
   "execution_count": 1,
   "metadata": {},
   "outputs": [],
   "source": [
    "import os\n",
    "import graphviz\n",
    "import owlready2 as owl\n",
    "import weakref"
   ]
  },
  {
   "cell_type": "code",
   "execution_count": 2,
   "metadata": {},
   "outputs": [
    {
     "name": "stdout",
     "output_type": "stream",
     "text": [
      "Loaded owl file at: file:///Users/lawrence/Documents/GitHub/Data-models-for-projects/Data_model_recorded_as_ontology_Owlready/ontologies/gistCore9.5.0\n"
     ]
    }
   ],
   "source": [
    "onto_path = 'file://' + os.path.abspath('ontologies/gistCore9.5.0')\n",
    "onto = owl.get_ontology(onto_path).load()\n",
    "print('Loaded owl file at:', onto_path)\n",
    "# onto1 = get_ontology(\"file:///Users/lawrence/ontologies/project_example.owl\").load() NEED TO ADD EMPTY ONTOLOGY\n",
    "# onto.base_iri"
   ]
  },
  {
   "cell_type": "code",
   "execution_count": null,
   "metadata": {},
   "outputs": [],
   "source": [
    "# OPTION LOOK ACROSS ALL CLASSES\n",
    "for x in onto.classes(): \n",
    "    print(x)"
   ]
  },
  {
   "cell_type": "code",
   "execution_count": null,
   "metadata": {},
   "outputs": [],
   "source": [
    "# OPTION Or transform the generator into a list with the list() Python function:\n",
    "classes=list(onto.classes())\n",
    "# Get a random class in collection\n",
    "print (classes[-10])\n",
    "# or look at disjoint classes\n",
    "list (onto.disjoint_classes())"
   ]
  },
  {
   "cell_type": "code",
   "execution_count": 3,
   "metadata": {},
   "outputs": [
    {
     "name": "stdout",
     "output_type": "stream",
     "text": [
      "[gist.Project] [gist.Task, gist.hasSubTask, gist.ScheduledTask, gist.hasDirectSubTask] [gist.Artifact]\n"
     ]
    }
   ],
   "source": [
    "# FIND THE CLASSES OF INTEREST\n",
    "Project_class=onto.search(iri='*Project*')\n",
    "Task_class=onto.search(iri='*Task')\n",
    "Artifact_class=onto.search(iri='*Artifact')\n",
    "print(Project_class,Task_class,Artifact_class)"
   ]
  },
  {
   "cell_type": "code",
   "execution_count": 4,
   "metadata": {},
   "outputs": [],
   "source": [
    "# SELECT THE CLASSES OF INTEREST FROM SEARCH RESULTS\n",
    "Project_class_actually=Project_class[0]=Project_class[0]\n",
    "Task_class_actually=Task_class[0]\n",
    "Artifact_class_actually=Artifact_class[0]"
   ]
  },
  {
   "cell_type": "code",
   "execution_count": null,
   "metadata": {},
   "outputs": [],
   "source": [
    "# OPTION HAVE A LOOK AT CLASS PROPERTIES\n",
    "print ('is a', Artifact_class_actually.is_a)\n",
    "print('equivalent_to:', Artifact_class_actually.equivalent_to)\n",
    "print('has subclasses: ', onto.search(subclass_of=Artifact_class_actually))\n",
    "for sc in Artifact_class_actually.ancestors():\n",
    "    print (sc)\n",
    "for sc in Artifact_class_actually.descendants():\n",
    "    print (sc)\n",
    "print(Artifact_class_actually.__dict__)"
   ]
  },
  {
   "cell_type": "code",
   "execution_count": 6,
   "metadata": {},
   "outputs": [],
   "source": [
    "# CREATE INSTANCES OF THIS CLASS"
   ]
  },
  {
   "cell_type": "code",
   "execution_count": 5,
   "metadata": {},
   "outputs": [
    {
     "name": "stdout",
     "output_type": "stream",
     "text": [
      "Project0     gist.Project0\n",
      "Project1     gist.Project1\n",
      "Project2     gist.Project2\n"
     ]
    }
   ],
   "source": [
    "#Refer to each project as ProjectX[0] etc\n",
    "Project=[]\n",
    "ProjectX=[]\n",
    "for p in range (0,3):\n",
    "    name='Project'+str(p)\n",
    "    Project.append(name)\n",
    "    ProjectX.append(Project_class_actually(Project[p]))\n",
    "    print (Project[p], '   ',ProjectX[p])"
   ]
  },
  {
   "cell_type": "code",
   "execution_count": 6,
   "metadata": {},
   "outputs": [
    {
     "name": "stdout",
     "output_type": "stream",
     "text": [
      "Task0     gist.Task0\n",
      "Task1     gist.Task1\n",
      "Task2     gist.Task2\n",
      "Task3     gist.Task3\n",
      "Task4     gist.Task4\n",
      "Task5     gist.Task5\n",
      "Task6     gist.Task6\n",
      "Task7     gist.Task7\n",
      "Task8     gist.Task8\n"
     ]
    }
   ],
   "source": [
    "# TaskX[0] etc\n",
    "Task=[]\n",
    "TaskX=[]\n",
    "for t in range (0,9):\n",
    "    name='Task'+str(t)\n",
    "    Task.append(name)\n",
    "    TaskX.append(Task_class_actually(Task[t]))\n",
    "    print (Task[t], '   ',TaskX[t])"
   ]
  },
  {
   "cell_type": "code",
   "execution_count": 7,
   "metadata": {},
   "outputs": [
    {
     "name": "stdout",
     "output_type": "stream",
     "text": [
      "Artifact0     gist.Artifact0\n",
      "Artifact1     gist.Artifact1\n",
      "Artifact2     gist.Artifact2\n"
     ]
    }
   ],
   "source": [
    "# ArtifactX[0] etc\n",
    "Artifact=[]\n",
    "ArtifactX=[]\n",
    "for t in range (0,3):\n",
    "    name='Artifact'+str(t)\n",
    "    Artifact.append(name)\n",
    "    ArtifactX.append(Artifact_class_actually(Artifact[t]))\n",
    "    print (Artifact[t], '   ',ArtifactX[t])"
   ]
  },
  {
   "cell_type": "code",
   "execution_count": null,
   "metadata": {},
   "outputs": [],
   "source": [
    "# OPTIONAL  \n",
    "# ACCESS INSTANCES BY GENERAL VARIABLE OR BY ITERATING THROUGH CLASS\n",
    "print (ProjectX[0].name)\n",
    "print (ProjectX[0].iri)\n",
    "list (onto.individuals())\n",
    "# note that this particular ontology has ensured some individuals are disjoint\n",
    "# Some tasks will not be disjoint, but Project people will be, so good to have a go at creating this\n",
    "print ('\\n different indiviudals')\n",
    "list (onto.different_individuals())\n",
    "list (onto.individuals())"
   ]
  },
  {
   "cell_type": "code",
   "execution_count": null,
   "metadata": {},
   "outputs": [],
   "source": [
    "# OPTIONAL  \n",
    "for p in Project_class_actually.instances():\n",
    "    print (p.name)\n",
    "for t in Task_class_actually.instances():\n",
    "    print (t.name)\n",
    "for t in Artifact_class_actually.instances():\n",
    "    print (t.name)"
   ]
  },
  {
   "cell_type": "code",
   "execution_count": 68,
   "metadata": {},
   "outputs": [],
   "source": [
    "# CREATE RELATIONSHIPS"
   ]
  },
  {
   "cell_type": "code",
   "execution_count": 50,
   "metadata": {},
   "outputs": [],
   "source": [
    "# Most simple\n",
    "# ProjectX[0].hasSubTask = [TaskX[0],TaskX[1],TaskX[2]]"
   ]
  },
  {
   "cell_type": "code",
   "execution_count": 59,
   "metadata": {},
   "outputs": [],
   "source": [
    "# Second most simple\n",
    "# ProjectX[0] is type Gist.Project and is not subscriptable. But below is a generator so can use:\n",
    "#for p in Project_class_actually.instances():\n",
    "#    p.hasSubTask = [TaskX[0]]"
   ]
  },
  {
   "cell_type": "code",
   "execution_count": 8,
   "metadata": {},
   "outputs": [],
   "source": [
    "# Third most simple\n",
    "# ProjectX[0] is type Gist.Project and is not subscriptable. But below is a generator so can use:\n",
    "counter=0\n",
    "for p in Project_class_actually.instances():\n",
    "    p.hasSubTask = [TaskX[counter],TaskX[counter+1],TaskX[counter+2]]\n",
    "    counter+=3"
   ]
  },
  {
   "cell_type": "code",
   "execution_count": 9,
   "metadata": {},
   "outputs": [
    {
     "name": "stdout",
     "output_type": "stream",
     "text": [
      "{gist.hasSubTask}\n"
     ]
    }
   ],
   "source": [
    "print (ProjectX[0].get_properties())"
   ]
  },
  {
   "cell_type": "code",
   "execution_count": 13,
   "metadata": {},
   "outputs": [
    {
     "data": {
      "text/plain": [
       "[gist.Task6,\n",
       " gist.Event & gist.hasGoal.some(gist.Intention),\n",
       " gist.Task,\n",
       " gist.Task7,\n",
       " gist.Task & gist.hasSubTask.some(gist.Task),\n",
       " gist.Task8]"
      ]
     },
     "execution_count": 13,
     "metadata": {},
     "output_type": "execute_result"
    }
   ],
   "source": [
    "ProjectX[2].INDIRECT_hasSubTask"
   ]
  },
  {
   "cell_type": "code",
   "execution_count": 23,
   "metadata": {},
   "outputs": [],
   "source": [
    "# Retrieve all object properties\n",
    "# Or list all properties with \n",
    "list(onto.properties())\n",
    "properties = list(onto.object_properties())"
   ]
  },
  {
   "cell_type": "code",
   "execution_count": null,
   "metadata": {},
   "outputs": [],
   "source": [
    "properties"
   ]
  },
  {
   "cell_type": "code",
   "execution_count": 49,
   "metadata": {},
   "outputs": [],
   "source": [
    "h=onto.search(iri='*hasSubTask*')"
   ]
  },
  {
   "cell_type": "code",
   "execution_count": 53,
   "metadata": {},
   "outputs": [
    {
     "name": "stdout",
     "output_type": "stream",
     "text": [
      "{'namespace': get_ontology(\"https://ontologies.semanticarts.com/o/gistCore#\").get_namespace(\"https://ontologies.semanticarts.com/gist/\"), 'is_a': [owl.ObjectProperty, owl.TransitiveProperty], 'storid': 509, '_name': 'hasSubTask', '_equivalent_to': [], '__module__': 'owlready2.entity', '__doc__': None, '_domain': None, '_range': None, '_property_chain': None, '_inverse_property': gist.subTaskOf, '_python_name': 'hasSubTask', '_class_property_type': [], '_class_property_some': True, '_class_property_only': False, '_class_property_relation': False, '_inverse_storid': 580}\n"
     ]
    }
   ],
   "source": [
    "print(h[0].__dict__)"
   ]
  },
  {
   "cell_type": "code",
   "execution_count": 54,
   "metadata": {},
   "outputs": [
    {
     "name": "stdout",
     "output_type": "stream",
     "text": [
      "class_property_some: True\n",
      "class_property_only: False\n",
      "class_property_relation: False\n"
     ]
    }
   ],
   "source": [
    "print('class_property_some:', h[0]._class_property_some)\n",
    "print('class_property_only:', h[0]._class_property_only)\n",
    "print('class_property_relation:', h[0]._class_property_relation)"
   ]
  },
  {
   "cell_type": "code",
   "execution_count": 55,
   "metadata": {},
   "outputs": [
    {
     "name": "stdout",
     "output_type": "stream",
     "text": [
      "name(string): hasSubTask\n",
      "module_type: owlready2.entity\n",
      "is_a: [owl.ObjectProperty, owl.TransitiveProperty]\n",
      "\n"
     ]
    }
   ],
   "source": [
    "print('name(string):', h[0].name)\n",
    "print('module_type:', h[0].__module__)\n",
    "print('is_a:', h[0].is_a)\n",
    "print()"
   ]
  },
  {
   "cell_type": "code",
   "execution_count": 13,
   "metadata": {},
   "outputs": [],
   "source": [
    "#Try the same but calling the functions from *.py file\n",
    "import graph_onto as GO"
   ]
  },
  {
   "cell_type": "code",
   "execution_count": 16,
   "metadata": {},
   "outputs": [
    {
     "name": "stdout",
     "output_type": "stream",
     "text": [
      "--------------------\n"
     ]
    }
   ],
   "source": [
    "print('-'*20)\n",
    "entity = GO.keyword_search_onto('Project', onto)"
   ]
  },
  {
   "cell_type": "code",
   "execution_count": 17,
   "metadata": {},
   "outputs": [
    {
     "name": "stdout",
     "output_type": "stream",
     "text": [
      "False gist.Project\n",
      "[('Project', 'hasSubTask, some', 'Task')]\n"
     ]
    },
    {
     "data": {
      "image/svg+xml": [
       "<?xml version=\"1.0\" encoding=\"UTF-8\" standalone=\"no\"?>\n",
       "<!DOCTYPE svg PUBLIC \"-//W3C//DTD SVG 1.1//EN\"\n",
       " \"http://www.w3.org/Graphics/SVG/1.1/DTD/svg11.dtd\">\n",
       "<!-- Generated by graphviz version 2.40.1 (20161225.0304)\n",
       " -->\n",
       "<!-- Title: KG Pages: 1 -->\n",
       "<svg width=\"141pt\" height=\"131pt\"\n",
       " viewBox=\"0.00 0.00 141.00 131.00\" xmlns=\"http://www.w3.org/2000/svg\" xmlns:xlink=\"http://www.w3.org/1999/xlink\">\n",
       "<g id=\"graph0\" class=\"graph\" transform=\"scale(1 1) rotate(0) translate(4 127)\">\n",
       "<title>KG</title>\n",
       "<polygon fill=\"#ffffff\" stroke=\"transparent\" points=\"-4,4 -4,-127 137,-127 137,4 -4,4\"/>\n",
       "<!-- Project -->\n",
       "<g id=\"node1\" class=\"node\">\n",
       "<title>Project</title>\n",
       "<polygon fill=\"none\" stroke=\"#000000\" points=\"56,-123 0,-123 0,-87 56,-87 56,-123\"/>\n",
       "<text text-anchor=\"middle\" x=\"28\" y=\"-101.3\" font-family=\"Times,serif\" font-size=\"14.00\" fill=\"#000000\">Project</text>\n",
       "</g>\n",
       "<!-- Task -->\n",
       "<g id=\"node2\" class=\"node\">\n",
       "<title>Task</title>\n",
       "<polygon fill=\"none\" stroke=\"#000000\" points=\"55,-36 1,-36 1,0 55,0 55,-36\"/>\n",
       "<text text-anchor=\"middle\" x=\"28\" y=\"-14.3\" font-family=\"Times,serif\" font-size=\"14.00\" fill=\"#000000\">Task</text>\n",
       "</g>\n",
       "<!-- Project&#45;&gt;Task -->\n",
       "<g id=\"edge1\" class=\"edge\">\n",
       "<title>Project&#45;&gt;Task</title>\n",
       "<path fill=\"none\" stroke=\"#000000\" d=\"M28,-86.9735C28,-75.1918 28,-59.5607 28,-46.1581\"/>\n",
       "<polygon fill=\"#000000\" stroke=\"#000000\" points=\"31.5001,-46.0033 28,-36.0034 24.5001,-46.0034 31.5001,-46.0033\"/>\n",
       "<text text-anchor=\"middle\" x=\"80.5\" y=\"-57.8\" font-family=\"Times,serif\" font-size=\"14.00\" fill=\"#000000\">hasSubTask, some</text>\n",
       "</g>\n",
       "</g>\n",
       "</svg>\n"
      ],
      "text/plain": [
       "<graphviz.dot.Digraph at 0x10677f1c0>"
      ]
     },
     "execution_count": 17,
     "metadata": {},
     "output_type": "execute_result"
    }
   ],
   "source": [
    "print(entity == onto.Thing, entity)\n",
    "kg = ontograf_simple(entity, onto)\n",
    "print(kg)\n",
    "convert_to_graphviz(kg)"
   ]
  },
  {
   "cell_type": "code",
   "execution_count": null,
   "metadata": {},
   "outputs": [],
   "source": []
  }
 ],
 "metadata": {
  "kernelspec": {
   "display_name": "Python 3",
   "language": "python",
   "name": "python3"
  },
  "language_info": {
   "codemirror_mode": {
    "name": "ipython",
    "version": 3
   },
   "file_extension": ".py",
   "mimetype": "text/x-python",
   "name": "python",
   "nbconvert_exporter": "python",
   "pygments_lexer": "ipython3",
   "version": "3.8.5"
  }
 },
 "nbformat": 4,
 "nbformat_minor": 4
}
