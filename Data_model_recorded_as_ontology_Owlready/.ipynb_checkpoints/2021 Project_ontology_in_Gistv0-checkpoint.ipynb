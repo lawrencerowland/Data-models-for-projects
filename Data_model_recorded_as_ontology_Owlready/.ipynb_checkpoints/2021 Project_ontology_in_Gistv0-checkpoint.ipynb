{
 "cells": [
  {
   "cell_type": "code",
   "execution_count": 10,
   "metadata": {},
   "outputs": [],
   "source": [
    "from owlready2 import *\n",
    "# onto = get_ontology(\"https://ontologies.semanticarts.com/gistCore9.5.0\")\n",
    "onto= get_ontology(\"file:///Users/lawrence/ontologies/gistCore9.5.0\").load()\n",
    "# onto1 = get_ontology(\"file:///Users/lawrence/ontologies/project_example.owl\").load() NEED TO ADD EMPTY ONTOLOGY\n",
    "# onto.base_iri"
   ]
  },
  {
   "cell_type": "code",
   "execution_count": null,
   "metadata": {},
   "outputs": [],
   "source": [
    "onto.base_iri"
   ]
  },
  {
   "cell_type": "code",
   "execution_count": null,
   "metadata": {},
   "outputs": [],
   "source": [
    "#A generator can be trandformed into a list with the list() Python function:\n",
    "list (onto.classes())"
   ]
  },
  {
   "cell_type": "code",
   "execution_count": null,
   "metadata": {},
   "outputs": [],
   "source": [
    "# Relevant classes\n",
    "Project, Task,PlannedEvent,ScheduledTask,\n",
    "\n",
    "Organization,Person,\n",
    "\n",
    "Obligation,Commitment,DegreeOfCommitment,Intention,\n",
    "\n",
    "Function,Requirement,Specification,ServiceSpecification,Artifact,ProductUnit,\n",
    "\n",
    "Possibly useful: Aspect, Category,Behavior,Building, BundledCatalogItem,CatalogItem,Collection,OrderedCollection,Restriction,Component,System,Event,\n",
    ",ContingentEvent,Controller,Duration,HistoricalEvent,Message,Permission,PhysicalEvent,ProductCategory,\n",
    "SystemInstant,TaskTemplate,"
   ]
  },
  {
   "cell_type": "code",
   "execution_count": null,
   "metadata": {},
   "outputs": [],
   "source": [
    "list (onto.individuals())\n",
    "list (onto.disjoint_classes())\n",
    "list (onto.different_individuals())\n",
    "list (onto.properties())\n",
    "list (onto.object_properties())"
   ]
  },
  {
   "cell_type": "code",
   "execution_count": null,
   "metadata": {},
   "outputs": [],
   "source": [
    "# Relevant object properties:\n",
    "subTaskOf,hasSubTask,hasDirectPart,directPartOf,hasPart,memberOf,hasMember,aspectOf,\n",
    "partOf,categorizedBy,orderedMemberOf,madeUpOf,\n",
    "\n",
    "hasGoal,affectedBy,allocatedBy,contributesTo,basisFor,\n",
    "\n",
    "governedBy,directs,respondsTo, governs,recognizedBy,accepts,allows,prevents,identifies,owns,\n",
    "\n",
    "triggeredBy,precedes,directlyPrecededBy,directlyPrecedes,plannedEnd,plannedStart,actualStart,actualEnd,\n",
    "\n",
    "fromAgent,toAgent,\n",
    "\n",
    "hasSubCategory,hasSuperCategory,\n",
    "\n",
    "affects,connectedTo,\n",
    "    \n",
    "conformsTo, basedOn,\n",
    " \n",
    "directSubTaskOf,hasDirectSubTask,\n",
    " \n",
    "parentOf,planned,produces,recognizes,requires,"
   ]
  },
  {
   "cell_type": "code",
   "execution_count": 38,
   "metadata": {},
   "outputs": [
    {
     "data": {
      "text/plain": [
       "[]"
      ]
     },
     "execution_count": 38,
     "metadata": {},
     "output_type": "execute_result"
    }
   ],
   "source": [
    "onto.search(iri = \"*Project\") # search for entities by looking along the full IRI\n",
    "# onto.search(type = onto.Project) # searches for Individuals of a given class\n",
    "# onto.search(is_a = \"Thing\") # searching both Individuals and subclasses of a given Class\n",
    "onto.search(hasGoal = \"*\") #searches for individuals related w ‘hasGoal’ (NB none)"
   ]
  },
  {
   "cell_type": "code",
   "execution_count": null,
   "metadata": {},
   "outputs": [],
   "source": []
  }
 ],
 "metadata": {
  "kernelspec": {
   "display_name": "Python 3",
   "language": "python",
   "name": "python3"
  },
  "language_info": {
   "codemirror_mode": {
    "name": "ipython",
    "version": 3
   },
   "file_extension": ".py",
   "mimetype": "text/x-python",
   "name": "python",
   "nbconvert_exporter": "python",
   "pygments_lexer": "ipython3",
   "version": "3.8.5"
  }
 },
 "nbformat": 4,
 "nbformat_minor": 4
}
