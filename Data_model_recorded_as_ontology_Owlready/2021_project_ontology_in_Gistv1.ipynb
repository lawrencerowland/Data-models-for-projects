{
 "cells": [
  {
   "cell_type": "code",
   "execution_count": null,
   "metadata": {},
   "outputs": [],
   "source": [
    "import os\n",
    "import graphviz\n",
    "import owlready2 as owl\n",
    "import weakref\n",
    "import graph_onto as GO # set up within this directory"
   ]
  },
  {
   "cell_type": "code",
   "execution_count": null,
   "metadata": {},
   "outputs": [],
   "source": [
    "onto_path = 'file://' + os.path.abspath('ontologies/gistCore9.5.0')\n",
    "onto = owl.get_ontology(onto_path).load()\n",
    "print('Loaded owl file at:', onto_path)\n",
    "# onto1 = get_ontology(\"file:///Users/lawrence/ontologies/project_example.owl\").load() NEED TO ADD EMPTY ONTOLOGY\n",
    "# onto.base_iri"
   ]
  },
  {
   "cell_type": "code",
   "execution_count": null,
   "metadata": {},
   "outputs": [],
   "source": [
    "# OPTION LOOK ACROSS ALL CLASSES using the generator\n",
    "for x in onto.classes(): \n",
    "    print(x)"
   ]
  },
  {
   "cell_type": "code",
   "execution_count": null,
   "metadata": {},
   "outputs": [],
   "source": [
    "# OPTION Or transform the generator into a list with the list() function\n",
    "class_as_list=list(onto.classes())\n",
    "print (class_as_list[-10]) # Get a random class in collection\n",
    "list (onto.disjoint_classes()) # or look at disjoint classes\n",
    "# Or, rather than simply classes,etreive all disjoint individual entity objects, stored in the dict\n",
    "disjoints = list(onto.disjoints())\n",
    "for x in disjoints: \n",
    "    print(x, '    ',x.__dict__,'\\n')"
   ]
  },
  {
   "cell_type": "code",
   "execution_count": null,
   "metadata": {},
   "outputs": [],
   "source": [
    "# FIND THE CLASSES OF INTEREST\n",
    "Project_search_results_as_list=onto.search(iri='*Project*') # search for entities by looking along the full IRI\n",
    "Task_search_results_as_list=onto.search(iri='*Task')\n",
    "Artifact_search_results_as_list=onto.search(iri='*Artifact')\n",
    "print(Project_search_results_as_list,Task_search_results_as_list,Artifact_search_results_as_list)"
   ]
  },
  {
   "cell_type": "code",
   "execution_count": null,
   "metadata": {},
   "outputs": [],
   "source": [
    "# SELECT THE CLASSES OF INTEREST FROM SEARCH RESULTS\n",
    "Project_class_actually=Project_search_results_as_list[0]\n",
    "Task_class_actually=Task_search_results_as_list[0]\n",
    "Artifact_class_actually=Artifact_search_results_as_list[0]"
   ]
  },
  {
   "cell_type": "code",
   "execution_count": null,
   "metadata": {},
   "outputs": [],
   "source": [
    "# OPTION HAVE A LOOK AT CLASS PROPERTIES\n",
    "print ('is a', Artifact_class_actually.is_a)  # this gives SUPER classes\n",
    "print('equivalent_to:', Artifact_class_actually.equivalent_to)\n",
    "print('has subclasses: ', onto.search(subclass_of=Artifact_class_actually))  # this give SUB classes\n",
    "for sc in Artifact_class_actually.ancestors():\n",
    "    print (sc)\n",
    "for sc in Artifact_class_actually.descendants():\n",
    "    print (sc)\n",
    "print(Artifact_class_actually.__dict__)"
   ]
  },
  {
   "cell_type": "code",
   "execution_count": null,
   "metadata": {},
   "outputs": [],
   "source": [
    "# CREATE INSTANCES OF THIS CLASS"
   ]
  },
  {
   "cell_type": "code",
   "execution_count": null,
   "metadata": {},
   "outputs": [],
   "source": [
    "#Refer to each project as ProjectX[0] etc\n",
    "Project=[]\n",
    "ProjectX=[]\n",
    "for p in range (0,3):\n",
    "    name='Project'+str(p)\n",
    "    Project.append(name) # this does nothing \n",
    "    ProjectX.append(Project_class_actually(Project[p]))\n",
    "    print (Project[p], '   ',ProjectX[p])"
   ]
  },
  {
   "cell_type": "code",
   "execution_count": null,
   "metadata": {},
   "outputs": [],
   "source": [
    "# TaskX[0] etc\n",
    "Task=[]\n",
    "TaskX=[]\n",
    "for t in range (0,9):\n",
    "    name='Task'+str(t)\n",
    "    Task.append(name)\n",
    "    TaskX.append(Task_class_actually(Task[t]))\n",
    "    print (Task[t], '   ',TaskX[t])"
   ]
  },
  {
   "cell_type": "code",
   "execution_count": null,
   "metadata": {},
   "outputs": [],
   "source": [
    "# ArtifactX[0] etc\n",
    "Artifact=[]\n",
    "ArtifactX=[]\n",
    "for t in range (0,3):\n",
    "    name='Artifact'+str(t)\n",
    "    Artifact.append(name)\n",
    "    ArtifactX.append(Artifact_class_actually(Artifact[t]))\n",
    "    print (Artifact[t], '   ',ArtifactX[t])"
   ]
  },
  {
   "cell_type": "code",
   "execution_count": 45,
   "metadata": {},
   "outputs": [
    {
     "data": {
      "text/plain": [
       "gist.Project2"
      ]
     },
     "execution_count": 45,
     "metadata": {},
     "output_type": "execute_result"
    }
   ],
   "source": [
    "ProjectX[2]"
   ]
  },
  {
   "cell_type": "code",
   "execution_count": 52,
   "metadata": {},
   "outputs": [],
   "source": [
    "# The first parameter is the name (or identifier) of the Individual; it corresponds to the .name attribute in Owlready2. \n",
    "# If not given, the name if automatically generated from the Class name and a number.\n",
    "random_name=Project_class_actually('Project_Fruitloop100')# create a one off project EASIEST\n",
    "ProjectX.append(Project_class_actually('Project_Fruitloop200')) # SECOND EASIEST\n",
    "ProjectX.append(Project_class_actually('Project_Fruitloop300',namespace=onto,hasSubTask=[TaskX[0]])) # THIRD EASIEST"
   ]
  },
  {
   "cell_type": "code",
   "execution_count": null,
   "metadata": {},
   "outputs": [],
   "source": [
    "# OPTIONAL  \n",
    "# ACCESS INSTANCES BY GENERAL VARIABLE OR BY ITERATING THROUGH CLASS\n",
    "print (ProjectX[0].name,ProjectX[0].iri)\n",
    "list (onto.individuals())\n",
    "# note that this particular ontology has ensured some individuals are disjoint\n",
    "# Some tasks will not be disjoint, but Project people will be, so good to have a go at creating this\n",
    "print ('\\n different indiviudals')\n",
    "list (onto.different_individuals())\n",
    "list (onto.individuals())"
   ]
  },
  {
   "cell_type": "code",
   "execution_count": null,
   "metadata": {},
   "outputs": [],
   "source": [
    "# OPTIONAL  \n",
    "for p in Project_class_actually.instances(): print (p.name)\n",
    "for t in Task_class_actually.instances(): print (t.name)\n",
    "for t in Artifact_class_actually.instances():print (t.name)"
   ]
  },
  {
   "cell_type": "code",
   "execution_count": null,
   "metadata": {},
   "outputs": [],
   "source": [
    "# CREATE RELATIONSHIPS"
   ]
  },
  {
   "cell_type": "code",
   "execution_count": null,
   "metadata": {},
   "outputs": [],
   "source": [
    "# Most simple\n",
    "# ProjectX[0].hasSubTask = [TaskX[0],TaskX[1],TaskX[2]]"
   ]
  },
  {
   "cell_type": "code",
   "execution_count": null,
   "metadata": {},
   "outputs": [],
   "source": [
    "# Second most simple\n",
    "# ProjectX[0] is type Gist.Project and is not subscriptable further. But below is a generator so can use:\n",
    "#for p in Project_class_actually.instances(): p.hasSubTask = [TaskX[0]]"
   ]
  },
  {
   "cell_type": "code",
   "execution_count": null,
   "metadata": {},
   "outputs": [],
   "source": [
    "# Third most simple"
   ]
  },
  {
   "cell_type": "code",
   "execution_count": null,
   "metadata": {},
   "outputs": [],
   "source": [
    "#problem is here, that I dont know what order the instances are presented in. So only good for slapdash\n",
    "counter=0\n",
    "for p in Project_class_actually.instances():\n",
    "    p.hasSubTask = [TaskX[counter],TaskX[counter+1],TaskX[counter+2]]\n",
    "    counter+=3"
   ]
  },
  {
   "cell_type": "code",
   "execution_count": null,
   "metadata": {},
   "outputs": [],
   "source": [
    "counter=0\n",
    "for p in Project_class_actually.instances():\n",
    "    p.produces = [ArtifactX[counter]]\n",
    "    counter+=1"
   ]
  },
  {
   "cell_type": "code",
   "execution_count": null,
   "metadata": {},
   "outputs": [],
   "source": [
    "#OPTIONAL check relationships have worked\n",
    "print (ProjectX[0].get_properties(),'\\n') # OR..\n",
    "for p in Project_class_actually.instances(): print (p.get_properties(),'\\n')\n",
    "print(ProjectX[2].INDIRECT_hasSubTask,'\\n') # alternative\n",
    "print(ProjectX[2].INDIRECT_produces,'\\n')\n",
    "property_list=list(onto.properties()) #list of all generic properties:  \n",
    "rel = property_list[-1] # select a particular relation from the list\n",
    "print(rel, rel.__dict__)"
   ]
  },
  {
   "cell_type": "code",
   "execution_count": null,
   "metadata": {},
   "outputs": [],
   "source": [
    "#Interested in the relation 'produces'\n",
    "#  the .class_property_type attribute of Properties allows to indicate how to handle class properties:\n",
    "# “some”: handle class properties as existential restrictions (i.e. SOME restrictions and VALUES restrictions).\n",
    "# “only”: handle class properties as universal restrictions (i.e. ONLY restrictions).\n",
    "# “relation”: handle class properties as relations (i.e. simple RDF triple, as in Linked Data).\n",
    "print(onto.search(produces = \"*\")) #searches for individuals related w ‘produces’ \n",
    "pr=onto.search(iri='*produces*') # this focusses on the relationship itself\n",
    "print (pr)\n",
    "print('class_property_some:', pr[0]._class_property_some)\n",
    "print('class_property_only:', pr[0]._class_property_only)\n",
    "print('class_property_relation:', pr[0]._class_property_relation)\n",
    "print(pr[0].__dict__)\n",
    "# print('name(string):', pr[0].name)\n",
    "#print('module_type:', pr[0].__module__)\n",
    "# print('is_a:', pr[0].is_a) # will come back saying its an owl property"
   ]
  },
  {
   "cell_type": "code",
   "execution_count": null,
   "metadata": {},
   "outputs": [],
   "source": [
    "#calling the functions from *.py file"
   ]
  },
  {
   "cell_type": "code",
   "execution_count": null,
   "metadata": {},
   "outputs": [],
   "source": [
    "entity = GO.keyword_search_onto('Artifact', onto)\n",
    "print(entity == onto.Artifact, entity,'-'*20,'\\n')\n",
    "kg = GO.ontograf_simple(entity, onto)\n",
    "print(kg)\n",
    "GO.convert_to_graphviz(kg)"
   ]
  },
  {
   "cell_type": "code",
   "execution_count": null,
   "metadata": {},
   "outputs": [],
   "source": [
    "# so far, I have introduced a new property ' produces' between instances of Project and Artifact.\n",
    "#This does not appear in the class rules, and it will need to presumably."
   ]
  },
  {
   "cell_type": "code",
   "execution_count": null,
   "metadata": {},
   "outputs": [],
   "source": [
    "onto.save(file = \"/Users/lawrence/Documents/GitHub/Data-models-for-projects/Project_model.owl\", format = \"rdfxml\")"
   ]
  },
  {
   "cell_type": "code",
   "execution_count": 32,
   "metadata": {},
   "outputs": [
    {
     "data": {
      "text/plain": [
       "[gist.Artifact0, gist.Artifact1, gist.Artifact2]"
      ]
     },
     "execution_count": 32,
     "metadata": {},
     "output_type": "execute_result"
    }
   ],
   "source": [
    "Artifact_class_actually.instances()"
   ]
  },
  {
   "cell_type": "code",
   "execution_count": 43,
   "metadata": {},
   "outputs": [
    {
     "name": "stdout",
     "output_type": "stream",
     "text": [
      "[gist.Project0, gist.Project1, gist.Project2]\n"
     ]
    }
   ],
   "source": [
    "# ACTION THIS BELOW\n",
    "# We can see from this, that relationship properties have to be created both sides \n",
    "print(onto.search(hasSubTask = \"*\"))\n",
    "ProjectX[0].__dict__\n",
    "TaskX[0].__dict__"
   ]
  },
  {
   "cell_type": "code",
   "execution_count": null,
   "metadata": {},
   "outputs": [],
   "source": [
    "# annotations are one of the property types where the objects are names or strings or link addresses (IRIs),\n",
    "# but over which no reasoning may occur. Annotations provide the labels, definitions, comments, and pointers to the actual objects in the system. We can assign values in a straightforward manner to annotations (in this case, <code>altLabel</code>):"
   ]
  },
  {
   "cell_type": "code",
   "execution_count": null,
   "metadata": {},
   "outputs": [],
   "source": [
    "ProjectX[0].altLabel = [\"Digital_Reset_project\",'2021_Cloud_project']"
   ]
  },
  {
   "cell_type": "code",
   "execution_count": null,
   "metadata": {},
   "outputs": [],
   "source": [
    "ProjectX[0].get_properties()"
   ]
  },
  {
   "cell_type": "code",
   "execution_count": null,
   "metadata": {},
   "outputs": [],
   "source": [
    "print(ProjectX[0].altLabel)"
   ]
  },
  {
   "cell_type": "code",
   "execution_count": null,
   "metadata": {},
   "outputs": [],
   "source": [
    "# Owlready2 enables us to also place restrictions on our classes\n",
    "#nthrough a special type of class constructed by the system.\n",
    "some - Property.some(Range_Class)\n",
    "only - Property.only(Range_Class)\n",
    "min - Property.min(cardinality, Range_Class)\n",
    "max - Property.max(cardinality, Range_Class)\n",
    "exactly - Property.exactly(cardinality, Range_Class)\n",
    "value - Property.value(Range_Individual / Literal value)\n",
    "has_self - Property.has_self(Boolean value)."
   ]
  },
  {
   "cell_type": "markdown",
   "metadata": {},
   "source": [
    "### Operators\n",
    "Owlready2 provides three logical operators between classes (including class constructs and restrictions):\n",
    "\n",
    "- ‘&’ - And operator (intersection). For example: Class1 & Class2. It can also be written: And([Class1, Class2])\n",
    "- ‘|’ - Or operator (union). For example: Class1 | Class2. It can also be written: Or([Class1, Class2])\n",
    "- Not() - Not operator (negation or complement). For example: Not(Class1)."
   ]
  },
  {
   "cell_type": "markdown",
   "metadata": {},
   "source": [
    "Both HermiT and Pellet are written in Java, so require access to a JVM on your system. If you have difficulty running these systems it is likely because you: 1) do not have a recent version of Java installed on your system; or 2) do not have a proper PATH statement in your environmental variables to find the Java executable. If you encounter such problems, please consult third-party sources to get Java properly configured for your system before continuing with this installment."
   ]
  },
  {
   "cell_type": "code",
   "execution_count": null,
   "metadata": {},
   "outputs": [],
   "source": [
    "owl.sync_reasoner()"
   ]
  },
  {
   "cell_type": "code",
   "execution_count": null,
   "metadata": {},
   "outputs": [],
   "source": [
    "owl.sync_reasoner_pellet()"
   ]
  },
  {
   "cell_type": "code",
   "execution_count": null,
   "metadata": {},
   "outputs": [],
   "source": []
  }
 ],
 "metadata": {
  "kernelspec": {
   "display_name": "Python 3",
   "language": "python",
   "name": "python3"
  },
  "language_info": {
   "codemirror_mode": {
    "name": "ipython",
    "version": 3
   },
   "file_extension": ".py",
   "mimetype": "text/x-python",
   "name": "python",
   "nbconvert_exporter": "python",
   "pygments_lexer": "ipython3",
   "version": "3.8.5"
  }
 },
 "nbformat": 4,
 "nbformat_minor": 4
}
