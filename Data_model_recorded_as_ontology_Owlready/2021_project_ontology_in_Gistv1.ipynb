{
 "cells": [
  {
   "cell_type": "code",
   "execution_count": 1,
   "metadata": {},
   "outputs": [],
   "source": [
    "import os\n",
    "import graphviz\n",
    "import owlready2 as owl\n",
    "import weakref\n",
    "import graph_onto as GO # set up within this directory"
   ]
  },
  {
   "cell_type": "code",
   "execution_count": 2,
   "metadata": {},
   "outputs": [
    {
     "name": "stdout",
     "output_type": "stream",
     "text": [
      "Loaded owl file at: file:///Users/lawrence/Documents/GitHub/Data-models-for-projects/Data_model_recorded_as_ontology_Owlready/ontologies/gistCore9.5.0\n"
     ]
    }
   ],
   "source": [
    "onto_path = 'file://' + os.path.abspath('ontologies/gistCore9.5.0')\n",
    "onto = owl.get_ontology(onto_path).load()\n",
    "print('Loaded owl file at:', onto_path)\n",
    "# onto1 = get_ontology(\"file:///Users/lawrence/ontologies/project_example.owl\").load() NEED TO ADD EMPTY ONTOLOGY\n",
    "# onto.base_iri"
   ]
  },
  {
   "cell_type": "code",
   "execution_count": null,
   "metadata": {},
   "outputs": [],
   "source": [
    "# OPTION LOOK ACROSS ALL CLASSES using the generator\n",
    "for x in onto.classes(): \n",
    "    print(x)"
   ]
  },
  {
   "cell_type": "code",
   "execution_count": null,
   "metadata": {},
   "outputs": [],
   "source": [
    "# OPTION Or transform the generator into a list with the list() function\n",
    "class_as_list=list(onto.classes())\n",
    "print (class_as_list[-10]) # Get a random class in collection\n",
    "list (onto.disjoint_classes()) # or look at disjoint classes\n",
    "# Or, rather than simply classes,etreive all disjoint individual entity objects, stored in the dict\n",
    "disjoints = list(onto.disjoints())\n",
    "for x in disjoints: \n",
    "    print(x, '    ',x.__dict__,'\\n')"
   ]
  },
  {
   "cell_type": "code",
   "execution_count": 45,
   "metadata": {},
   "outputs": [
    {
     "name": "stdout",
     "output_type": "stream",
     "text": [
      "[gist.Project, gist.Project0, gist.Project1, gist.Project2] [gist.Task, gist.hasSubTask, gist.ScheduledTask, gist.hasDirectSubTask] [gist.Artifact]\n"
     ]
    }
   ],
   "source": [
    "# FIND THE CLASSES OF INTEREST\n",
    "Project_search_results_as_list=onto.search(iri='*Project*') # search for entities by looking along the full IRI\n",
    "Task_search_results_as_list=onto.search(iri='*Task')\n",
    "Artifact_search_results_as_list=onto.search(iri='*Artifact')\n",
    "print(Project_search_results_as_list,Task_search_results_as_list,Artifact_search_results_as_list)"
   ]
  },
  {
   "cell_type": "code",
   "execution_count": 46,
   "metadata": {},
   "outputs": [],
   "source": [
    "# SELECT THE CLASSES OF INTEREST FROM SEARCH RESULTS\n",
    "Project_class_actually=Project_search_results_as_list[0]\n",
    "Task_class_actually=Task_search_results_as_list[0]\n",
    "Artifact_class_actually=Artifact_search_results_as_list[0]"
   ]
  },
  {
   "cell_type": "code",
   "execution_count": null,
   "metadata": {},
   "outputs": [],
   "source": [
    "# OPTION HAVE A LOOK AT CLASS PROPERTIES\n",
    "print ('is a', Artifact_class_actually.is_a)\n",
    "print('equivalent_to:', Artifact_class_actually.equivalent_to)\n",
    "print('has subclasses: ', onto.search(subclass_of=Artifact_class_actually))\n",
    "for sc in Artifact_class_actually.ancestors():\n",
    "    print (sc)\n",
    "for sc in Artifact_class_actually.descendants():\n",
    "    print (sc)\n",
    "print(Artifact_class_actually.__dict__)"
   ]
  },
  {
   "cell_type": "code",
   "execution_count": 6,
   "metadata": {},
   "outputs": [],
   "source": [
    "# CREATE INSTANCES OF THIS CLASS"
   ]
  },
  {
   "cell_type": "code",
   "execution_count": null,
   "metadata": {},
   "outputs": [],
   "source": [
    "#Refer to each project as ProjectX[0] etc\n",
    "Project=[]\n",
    "ProjectX=[]\n",
    "for p in range (0,3):\n",
    "    name='Project'+str(p)\n",
    "    Project.append(name)\n",
    "    ProjectX.append(Project_class_actually(Project[p]))\n",
    "    print (Project[p], '   ',ProjectX[p])"
   ]
  },
  {
   "cell_type": "code",
   "execution_count": null,
   "metadata": {},
   "outputs": [],
   "source": [
    "# TaskX[0] etc\n",
    "Task=[]\n",
    "TaskX=[]\n",
    "for t in range (0,9):\n",
    "    name='Task'+str(t)\n",
    "    Task.append(name)\n",
    "    TaskX.append(Task_class_actually(Task[t]))\n",
    "    print (Task[t], '   ',TaskX[t])"
   ]
  },
  {
   "cell_type": "code",
   "execution_count": null,
   "metadata": {},
   "outputs": [],
   "source": [
    "# ArtifactX[0] etc\n",
    "Artifact=[]\n",
    "ArtifactX=[]\n",
    "for t in range (0,3):\n",
    "    name='Artifact'+str(t)\n",
    "    Artifact.append(name)\n",
    "    ArtifactX.append(Artifact_class_actually(Artifact[t]))\n",
    "    print (Artifact[t], '   ',ArtifactX[t])"
   ]
  },
  {
   "cell_type": "code",
   "execution_count": null,
   "metadata": {},
   "outputs": [],
   "source": [
    "# OPTIONAL  \n",
    "# ACCESS INSTANCES BY GENERAL VARIABLE OR BY ITERATING THROUGH CLASS\n",
    "print (ProjectX[0].name)\n",
    "print (ProjectX[0].iri)\n",
    "list (onto.individuals())\n",
    "# note that this particular ontology has ensured some individuals are disjoint\n",
    "# Some tasks will not be disjoint, but Project people will be, so good to have a go at creating this\n",
    "print ('\\n different indiviudals')\n",
    "list (onto.different_individuals())\n",
    "list (onto.individuals())"
   ]
  },
  {
   "cell_type": "code",
   "execution_count": null,
   "metadata": {},
   "outputs": [],
   "source": [
    "# OPTIONAL BUT FIX THIS\n",
    "onto.search(type = gist.Project) # searches for Individuals of a given class\n",
    "onto.search(is_a = \"Project\") # searching both Individuals and subclasses of a given Class"
   ]
  },
  {
   "cell_type": "code",
   "execution_count": null,
   "metadata": {},
   "outputs": [],
   "source": [
    "# OPTIONAL  \n",
    "for p in Project_class_actually.instances():\n",
    "    print (p.name)\n",
    "for t in Task_class_actually.instances():\n",
    "    print (t.name)\n",
    "for t in Artifact_class_actually.instances():\n",
    "    print (t.name)"
   ]
  },
  {
   "cell_type": "code",
   "execution_count": 68,
   "metadata": {},
   "outputs": [],
   "source": [
    "# CREATE RELATIONSHIPS"
   ]
  },
  {
   "cell_type": "code",
   "execution_count": 50,
   "metadata": {},
   "outputs": [],
   "source": [
    "# Most simple\n",
    "# ProjectX[0].hasSubTask = [TaskX[0],TaskX[1],TaskX[2]]"
   ]
  },
  {
   "cell_type": "code",
   "execution_count": 59,
   "metadata": {},
   "outputs": [],
   "source": [
    "# Second most simple\n",
    "# ProjectX[0] is type Gist.Project and is not subscriptable. But below is a generator so can use:\n",
    "#for p in Project_class_actually.instances():\n",
    "#    p.hasSubTask = [TaskX[0]]"
   ]
  },
  {
   "cell_type": "code",
   "execution_count": 12,
   "metadata": {},
   "outputs": [],
   "source": [
    "# Third most simple\n",
    "# ProjectX[0] is type Gist.Project and is not subscriptable. But below is a generator so can use:"
   ]
  },
  {
   "cell_type": "code",
   "execution_count": null,
   "metadata": {},
   "outputs": [],
   "source": [
    "counter=0\n",
    "for p in Project_class_actually.instances():\n",
    "    p.hasSubTask = [TaskX[counter],TaskX[counter+1],TaskX[counter+2]]\n",
    "    counter+=3"
   ]
  },
  {
   "cell_type": "code",
   "execution_count": 12,
   "metadata": {},
   "outputs": [],
   "source": [
    "counter=0\n",
    "for p in Project_class_actually.instances():\n",
    "    p.produces = [ArtifactX[counter]]\n",
    "    counter+=1"
   ]
  },
  {
   "cell_type": "code",
   "execution_count": 66,
   "metadata": {},
   "outputs": [
    {
     "name": "stdout",
     "output_type": "stream",
     "text": [
      "{gist.produces, gist.hasSubTask} \n",
      "\n",
      "[gist.Task7, gist.Task & gist.hasSubTask.some(gist.Task), gist.Task, gist.Task8, gist.Task6, gist.Event & gist.hasGoal.some(gist.Intention)] \n",
      "\n",
      "[gist.Artifact2] \n",
      "\n",
      "[gist.Project0, gist.Project1, gist.Project2]\n"
     ]
    }
   ],
   "source": [
    "#OPTIONAL check relationships have worked\n",
    "print (ProjectX[0].get_properties(),'\\n')\n",
    "print(ProjectX[2].INDIRECT_hasSubTask,'\\n') # alternative\n",
    "print(ProjectX[2].INDIRECT_produces,'\\n')"
   ]
  },
  {
   "cell_type": "code",
   "execution_count": 19,
   "metadata": {},
   "outputs": [],
   "source": [
    "# OPTIONAL list all properties with \n",
    "list(onto.properties())"
   ]
  },
  {
   "cell_type": "code",
   "execution_count": null,
   "metadata": {},
   "outputs": [],
   "source": [
    "# OPTIONAL or Retrieve all object properties\n",
    "properties = list(onto.object_properties())\n",
    "print('\\nAll object properties\\n'+'-'*20)\n",
    "for x in properties: \n",
    "    print(x)\n",
    "print()\n",
    "rel = properties[-1] # select a particular relation from the list\n",
    "print(rel, rel.__dict__)"
   ]
  },
  {
   "cell_type": "code",
   "execution_count": 73,
   "metadata": {},
   "outputs": [
    {
     "name": "stdout",
     "output_type": "stream",
     "text": [
      "[gist.Project0, gist.Project1, gist.Project2]\n",
      "[gist.produces]\n",
      "class_property_some: True\n",
      "class_property_only: False\n",
      "class_property_relation: False\n",
      "{'namespace': get_ontology(\"https://ontologies.semanticarts.com/o/gistCore#\").get_namespace(\"https://ontologies.semanticarts.com/gist/\"), 'is_a': [owl.ObjectProperty], 'storid': 591, '_name': 'produces', '_equivalent_to': [], '__module__': 'owlready2.entity', '__doc__': None, '_domain': None, '_range': None, '_property_chain': None, '_inverse_property': None, '_python_name': 'produces', '_class_property_type': [], '_class_property_some': True, '_class_property_only': False, '_class_property_relation': False, '_inverse_storid': 0}\n"
     ]
    }
   ],
   "source": [
    "\"\"\"\n",
    "The .class_property_type attribute of Properties allows to indicate how to handle class properties:\n",
    "    “some”: handle class properties as existential restrictions (i.e. SOME restrictions and VALUES restrictions).\n",
    "    “only”: handle class properties as universal restrictions (i.e. ONLY restrictions).\n",
    "    “relation”: handle class properties as relations (i.e. simple RDF triple, as in Linked Data).\n",
    "\"\"\"\n",
    "#Interested in the relation 'produces'\n",
    "print(onto.search(produces = \"*\")) #searches for individuals related w ‘produces’ \n",
    "pr=onto.search(iri='*produces*') # this focusses on the relationship itself\n",
    "print (pr)\n",
    "print('class_property_some:', pr[0]._class_property_some)\n",
    "print('class_property_only:', pr[0]._class_property_only)\n",
    "print('class_property_relation:', pr[0]._class_property_relation)\n",
    "# print(pr[0].__dict__)\n",
    "# print('name(string):', pr[0].name)\n",
    "# print('module_type:', pr[0].__module__)\n",
    "# print('is_a:', pr[0].is_a)"
   ]
  },
  {
   "cell_type": "code",
   "execution_count": 26,
   "metadata": {},
   "outputs": [],
   "source": [
    "#calling the functions from *.py file"
   ]
  },
  {
   "cell_type": "code",
   "execution_count": 81,
   "metadata": {},
   "outputs": [
    {
     "name": "stdout",
     "output_type": "stream",
     "text": [
      "False gist.Artifact -------------------- \n",
      "\n",
      "[('Artifact', 'has_subclass', 'Content'), ('Content', 'subclass_of', 'Artifact'), ('Artifact', 'has_subclass', 'Building'), ('Building', 'subclass_of', 'Artifact'), ('Artifact', 'has_subclass', 'IntellectualProperty'), ('IntellectualProperty', 'subclass_of', 'Artifact'), ('Artifact', 'hasGoal, some', 'Function'), ('Artifact', 'has_individual', 'Artifact0'), ('Artifact', 'has_individual', 'Artifact1'), ('Artifact', 'has_individual', 'Artifact2')]\n"
     ]
    },
    {
     "data": {
      "image/svg+xml": [
       "<?xml version=\"1.0\" encoding=\"UTF-8\" standalone=\"no\"?>\n",
       "<!DOCTYPE svg PUBLIC \"-//W3C//DTD SVG 1.1//EN\"\n",
       " \"http://www.w3.org/Graphics/SVG/1.1/DTD/svg11.dtd\">\n",
       "<!-- Generated by graphviz version 2.40.1 (20161225.0304)\n",
       " -->\n",
       "<!-- Title: KG Pages: 1 -->\n",
       "<svg width=\"942pt\" height=\"131pt\"\n",
       " viewBox=\"0.00 0.00 942.22 131.00\" xmlns=\"http://www.w3.org/2000/svg\" xmlns:xlink=\"http://www.w3.org/1999/xlink\">\n",
       "<g id=\"graph0\" class=\"graph\" transform=\"scale(1 1) rotate(0) translate(4 127)\">\n",
       "<title>KG</title>\n",
       "<polygon fill=\"#ffffff\" stroke=\"transparent\" points=\"-4,4 -4,-127 938.2214,-127 938.2214,4 -4,4\"/>\n",
       "<!-- Artifact -->\n",
       "<g id=\"node1\" class=\"node\">\n",
       "<title>Artifact</title>\n",
       "<polygon fill=\"none\" stroke=\"#000000\" points=\"451.2214,-123 391.2214,-123 391.2214,-87 451.2214,-87 451.2214,-123\"/>\n",
       "<text text-anchor=\"middle\" x=\"421.2214\" y=\"-101.3\" font-family=\"Times,serif\" font-size=\"14.00\" fill=\"#000000\">Artifact</text>\n",
       "</g>\n",
       "<!-- Content -->\n",
       "<g id=\"node2\" class=\"node\">\n",
       "<title>Content</title>\n",
       "<polygon fill=\"none\" stroke=\"#000000\" points=\"81.7214,-36 20.7214,-36 20.7214,0 81.7214,0 81.7214,-36\"/>\n",
       "<text text-anchor=\"middle\" x=\"51.2214\" y=\"-14.3\" font-family=\"Times,serif\" font-size=\"14.00\" fill=\"#000000\">Content</text>\n",
       "</g>\n",
       "<!-- Artifact&#45;&gt;Content -->\n",
       "<g id=\"edge1\" class=\"edge\">\n",
       "<title>Artifact&#45;&gt;Content</title>\n",
       "<path fill=\"none\" stroke=\"#000000\" d=\"M391.131,-104.6946C299.7803,-103.4582 30.2871,-97.4129 4.2214,-69 -4.2934,-59.7184 1.9986,-49.5064 12.4182,-40.6741\"/>\n",
       "<polygon fill=\"#000000\" stroke=\"#000000\" points=\"14.7037,-43.3343 20.5821,-34.5198 10.4899,-37.7447 14.7037,-43.3343\"/>\n",
       "<text text-anchor=\"middle\" x=\"40.7214\" y=\"-57.8\" font-family=\"Times,serif\" font-size=\"14.00\" fill=\"#000000\">has_subclass</text>\n",
       "</g>\n",
       "<!-- Building -->\n",
       "<g id=\"node3\" class=\"node\">\n",
       "<title>Building</title>\n",
       "<polygon fill=\"none\" stroke=\"#000000\" points=\"256.2214,-36 190.2214,-36 190.2214,0 256.2214,0 256.2214,-36\"/>\n",
       "<text text-anchor=\"middle\" x=\"223.2214\" y=\"-14.3\" font-family=\"Times,serif\" font-size=\"14.00\" fill=\"#000000\">Building</text>\n",
       "</g>\n",
       "<!-- Artifact&#45;&gt;Building -->\n",
       "<g id=\"edge3\" class=\"edge\">\n",
       "<title>Artifact&#45;&gt;Building</title>\n",
       "<path fill=\"none\" stroke=\"#000000\" d=\"M391.1043,-102.4938C331.3069,-97.2119 202.2162,-84.1667 189.2214,-69 182.5422,-61.2044 185.7249,-52.042 192.2855,-43.6498\"/>\n",
       "<polygon fill=\"#000000\" stroke=\"#000000\" points=\"194.9122,-45.9638 199.0741,-36.2206 189.7446,-41.2419 194.9122,-45.9638\"/>\n",
       "<text text-anchor=\"middle\" x=\"225.7214\" y=\"-57.8\" font-family=\"Times,serif\" font-size=\"14.00\" fill=\"#000000\">has_subclass</text>\n",
       "</g>\n",
       "<!-- IntellectualProperty -->\n",
       "<g id=\"node4\" class=\"node\">\n",
       "<title>IntellectualProperty</title>\n",
       "<polygon fill=\"none\" stroke=\"#000000\" points=\"472.2214,-36 344.2214,-36 344.2214,0 472.2214,0 472.2214,-36\"/>\n",
       "<text text-anchor=\"middle\" x=\"408.2214\" y=\"-14.3\" font-family=\"Times,serif\" font-size=\"14.00\" fill=\"#000000\">IntellectualProperty</text>\n",
       "</g>\n",
       "<!-- Artifact&#45;&gt;IntellectualProperty -->\n",
       "<g id=\"edge5\" class=\"edge\">\n",
       "<title>Artifact&#45;&gt;IntellectualProperty</title>\n",
       "<path fill=\"none\" stroke=\"#000000\" d=\"M390.7696,-88.1886C384.1154,-82.967 377.9524,-76.5574 374.2214,-69 370.0701,-60.5912 372.8059,-51.9281 378.1791,-44.1823\"/>\n",
       "<polygon fill=\"#000000\" stroke=\"#000000\" points=\"381.1257,-46.1139 384.8436,-36.1928 375.7503,-41.6299 381.1257,-46.1139\"/>\n",
       "<text text-anchor=\"middle\" x=\"410.7214\" y=\"-57.8\" font-family=\"Times,serif\" font-size=\"14.00\" fill=\"#000000\">has_subclass</text>\n",
       "</g>\n",
       "<!-- Function -->\n",
       "<g id=\"node5\" class=\"node\">\n",
       "<title>Function</title>\n",
       "<polygon fill=\"none\" stroke=\"#000000\" points=\"591.2214,-36 525.2214,-36 525.2214,0 591.2214,0 591.2214,-36\"/>\n",
       "<text text-anchor=\"middle\" x=\"558.2214\" y=\"-14.3\" font-family=\"Times,serif\" font-size=\"14.00\" fill=\"#000000\">Function</text>\n",
       "</g>\n",
       "<!-- Artifact&#45;&gt;Function -->\n",
       "<g id=\"edge7\" class=\"edge\">\n",
       "<title>Artifact&#45;&gt;Function</title>\n",
       "<path fill=\"none\" stroke=\"#000000\" d=\"M451.6555,-98.5622C472.1795,-93.1393 499.0839,-83.8372 519.2214,-69 528.1053,-62.4544 535.9505,-53.3443 542.2319,-44.6321\"/>\n",
       "<polygon fill=\"#000000\" stroke=\"#000000\" points=\"545.2593,-46.4037 547.9725,-36.1622 539.4647,-42.4764 545.2593,-46.4037\"/>\n",
       "<text text-anchor=\"middle\" x=\"576.7214\" y=\"-57.8\" font-family=\"Times,serif\" font-size=\"14.00\" fill=\"#000000\">hasGoal, some</text>\n",
       "</g>\n",
       "<!-- Artifact0 -->\n",
       "<g id=\"node6\" class=\"node\">\n",
       "<title>Artifact0</title>\n",
       "<polygon fill=\"none\" stroke=\"#000000\" points=\"697.7214,-36 630.7214,-36 630.7214,0 697.7214,0 697.7214,-36\"/>\n",
       "<text text-anchor=\"middle\" x=\"664.2214\" y=\"-14.3\" font-family=\"Times,serif\" font-size=\"14.00\" fill=\"#000000\">Artifact0</text>\n",
       "</g>\n",
       "<!-- Artifact&#45;&gt;Artifact0 -->\n",
       "<g id=\"edge8\" class=\"edge\">\n",
       "<title>Artifact&#45;&gt;Artifact0</title>\n",
       "<path fill=\"none\" stroke=\"#000000\" d=\"M451.3126,-102.173C500.0526,-97.1736 593.6911,-85.6991 622.2214,-69 632.4531,-63.0113 641.2693,-53.5448 648.1451,-44.3851\"/>\n",
       "<polygon fill=\"#000000\" stroke=\"#000000\" points=\"651.0301,-46.3669 653.899,-36.1679 645.296,-42.3518 651.0301,-46.3669\"/>\n",
       "<text text-anchor=\"middle\" x=\"681.7214\" y=\"-57.8\" font-family=\"Times,serif\" font-size=\"14.00\" fill=\"#000000\">has_individual</text>\n",
       "</g>\n",
       "<!-- Artifact1 -->\n",
       "<g id=\"node7\" class=\"node\">\n",
       "<title>Artifact1</title>\n",
       "<polygon fill=\"none\" stroke=\"#000000\" points=\"803.7214,-36 736.7214,-36 736.7214,0 803.7214,0 803.7214,-36\"/>\n",
       "<text text-anchor=\"middle\" x=\"770.2214\" y=\"-14.3\" font-family=\"Times,serif\" font-size=\"14.00\" fill=\"#000000\">Artifact1</text>\n",
       "</g>\n",
       "<!-- Artifact&#45;&gt;Artifact1 -->\n",
       "<g id=\"edge9\" class=\"edge\">\n",
       "<title>Artifact&#45;&gt;Artifact1</title>\n",
       "<path fill=\"none\" stroke=\"#000000\" d=\"M451.2215,-104.2488C518.6424,-102.1205 679.9412,-94.4442 727.2214,-69 737.8404,-63.2853 746.9348,-53.7822 753.9882,-44.5178\"/>\n",
       "<polygon fill=\"#000000\" stroke=\"#000000\" points=\"756.9597,-46.3776 759.877,-36.1923 751.2448,-42.3353 756.9597,-46.3776\"/>\n",
       "<text text-anchor=\"middle\" x=\"787.7214\" y=\"-57.8\" font-family=\"Times,serif\" font-size=\"14.00\" fill=\"#000000\">has_individual</text>\n",
       "</g>\n",
       "<!-- Artifact2 -->\n",
       "<g id=\"node8\" class=\"node\">\n",
       "<title>Artifact2</title>\n",
       "<polygon fill=\"none\" stroke=\"#000000\" points=\"909.7214,-36 842.7214,-36 842.7214,0 909.7214,0 909.7214,-36\"/>\n",
       "<text text-anchor=\"middle\" x=\"876.2214\" y=\"-14.3\" font-family=\"Times,serif\" font-size=\"14.00\" fill=\"#000000\">Artifact2</text>\n",
       "</g>\n",
       "<!-- Artifact&#45;&gt;Artifact2 -->\n",
       "<g id=\"edge10\" class=\"edge\">\n",
       "<title>Artifact&#45;&gt;Artifact2</title>\n",
       "<path fill=\"none\" stroke=\"#000000\" d=\"M451.5028,-103.6857C540.9044,-99.621 799.5647,-86.4677 833.2214,-69 844.0035,-63.4041 853.1689,-53.8321 860.2323,-44.4816\"/>\n",
       "<polygon fill=\"#000000\" stroke=\"#000000\" points=\"863.2479,-46.2768 866.1142,-36.0771 857.5128,-42.2631 863.2479,-46.2768\"/>\n",
       "<text text-anchor=\"middle\" x=\"892.7214\" y=\"-57.8\" font-family=\"Times,serif\" font-size=\"14.00\" fill=\"#000000\">has_individual</text>\n",
       "</g>\n",
       "<!-- Content&#45;&gt;Artifact -->\n",
       "<g id=\"edge2\" class=\"edge\">\n",
       "<title>Content&#45;&gt;Artifact</title>\n",
       "<path fill=\"none\" stroke=\"#000000\" d=\"M68.792,-36.2072C80.9715,-47.63 98.1892,-61.5584 116.2214,-69 163.1981,-88.3863 309.3284,-98.8624 380.8998,-102.9487\"/>\n",
       "<polygon fill=\"#000000\" stroke=\"#000000\" points=\"380.7186,-106.444 390.8978,-103.5056 381.1079,-99.4548 380.7186,-106.444\"/>\n",
       "<text text-anchor=\"middle\" x=\"149.2214\" y=\"-57.8\" font-family=\"Times,serif\" font-size=\"14.00\" fill=\"#000000\">subclass_of</text>\n",
       "</g>\n",
       "<!-- Building&#45;&gt;Artifact -->\n",
       "<g id=\"edge4\" class=\"edge\">\n",
       "<title>Building&#45;&gt;Artifact</title>\n",
       "<path fill=\"none\" stroke=\"#000000\" d=\"M247.4517,-36.1783C262.5822,-46.8726 282.8139,-60.0167 302.2214,-69 327.4743,-80.689 357.4725,-89.7349 381.0321,-95.8354\"/>\n",
       "<polygon fill=\"#000000\" stroke=\"#000000\" points=\"380.4804,-99.3055 391.032,-98.3492 382.187,-92.5168 380.4804,-99.3055\"/>\n",
       "<text text-anchor=\"middle\" x=\"335.2214\" y=\"-57.8\" font-family=\"Times,serif\" font-size=\"14.00\" fill=\"#000000\">subclass_of</text>\n",
       "</g>\n",
       "<!-- IntellectualProperty&#45;&gt;Artifact -->\n",
       "<g id=\"edge6\" class=\"edge\">\n",
       "<title>IntellectualProperty&#45;&gt;Artifact</title>\n",
       "<path fill=\"none\" stroke=\"#000000\" d=\"M433.9837,-36.0753C439.3476,-41.1994 444.2649,-47.2473 447.2214,-54 450.7167,-61.9831 448.767,-70.4809 444.6924,-78.2043\"/>\n",
       "<polygon fill=\"#000000\" stroke=\"#000000\" points=\"441.6041,-76.5354 439.132,-86.8378 447.4892,-80.3257 441.6041,-76.5354\"/>\n",
       "<text text-anchor=\"middle\" x=\"482.2214\" y=\"-57.8\" font-family=\"Times,serif\" font-size=\"14.00\" fill=\"#000000\">subclass_of</text>\n",
       "</g>\n",
       "</g>\n",
       "</svg>\n"
      ],
      "text/plain": [
       "<graphviz.dot.Digraph at 0x10a997820>"
      ]
     },
     "execution_count": 81,
     "metadata": {},
     "output_type": "execute_result"
    }
   ],
   "source": [
    "entity = GO.keyword_search_onto('Artifact', onto)\n",
    "print(entity == onto.Artifact, entity,'-'*20,'\\n')\n",
    "kg = GO.ontograf_simple(entity, onto)\n",
    "print(kg)\n",
    "GO.convert_to_graphviz(kg)"
   ]
  },
  {
   "cell_type": "code",
   "execution_count": 84,
   "metadata": {},
   "outputs": [
    {
     "name": "stdout",
     "output_type": "stream",
     "text": [
      "False gist.Project -------------------- \n",
      "\n",
      "[('Project', 'hasSubTask, some', 'Task'), ('Project', 'has_individual', 'Project0'), ('Project', 'has_individual', 'Project1'), ('Project', 'has_individual', 'Project2')]\n"
     ]
    },
    {
     "data": {
      "image/svg+xml": [
       "<?xml version=\"1.0\" encoding=\"UTF-8\" standalone=\"no\"?>\n",
       "<!DOCTYPE svg PUBLIC \"-//W3C//DTD SVG 1.1//EN\"\n",
       " \"http://www.w3.org/Graphics/SVG/1.1/DTD/svg11.dtd\">\n",
       "<!-- Generated by graphviz version 2.40.1 (20161225.0304)\n",
       " -->\n",
       "<!-- Title: KG Pages: 1 -->\n",
       "<svg width=\"438pt\" height=\"131pt\"\n",
       " viewBox=\"0.00 0.00 438.00 131.00\" xmlns=\"http://www.w3.org/2000/svg\" xmlns:xlink=\"http://www.w3.org/1999/xlink\">\n",
       "<g id=\"graph0\" class=\"graph\" transform=\"scale(1 1) rotate(0) translate(4 127)\">\n",
       "<title>KG</title>\n",
       "<polygon fill=\"#ffffff\" stroke=\"transparent\" points=\"-4,4 -4,-127 434,-127 434,4 -4,4\"/>\n",
       "<!-- Project -->\n",
       "<g id=\"node1\" class=\"node\">\n",
       "<title>Project</title>\n",
       "<polygon fill=\"none\" stroke=\"#000000\" points=\"236,-123 180,-123 180,-87 236,-87 236,-123\"/>\n",
       "<text text-anchor=\"middle\" x=\"208\" y=\"-101.3\" font-family=\"Times,serif\" font-size=\"14.00\" fill=\"#000000\">Project</text>\n",
       "</g>\n",
       "<!-- Task -->\n",
       "<g id=\"node2\" class=\"node\">\n",
       "<title>Task</title>\n",
       "<polygon fill=\"none\" stroke=\"#000000\" points=\"54,-36 0,-36 0,0 54,0 54,-36\"/>\n",
       "<text text-anchor=\"middle\" x=\"27\" y=\"-14.3\" font-family=\"Times,serif\" font-size=\"14.00\" fill=\"#000000\">Task</text>\n",
       "</g>\n",
       "<!-- Project&#45;&gt;Task -->\n",
       "<g id=\"edge1\" class=\"edge\">\n",
       "<title>Project&#45;&gt;Task</title>\n",
       "<path fill=\"none\" stroke=\"#000000\" d=\"M179.8886,-102.2665C138.1917,-97.6637 62.7426,-87.056 43,-69 36.5739,-63.1229 32.709,-54.7012 30.3912,-46.3904\"/>\n",
       "<polygon fill=\"#000000\" stroke=\"#000000\" points=\"33.7858,-45.528 28.263,-36.4865 26.942,-46.9986 33.7858,-45.528\"/>\n",
       "<text text-anchor=\"middle\" x=\"95.5\" y=\"-57.8\" font-family=\"Times,serif\" font-size=\"14.00\" fill=\"#000000\">hasSubTask, some</text>\n",
       "</g>\n",
       "<!-- Project0 -->\n",
       "<g id=\"node3\" class=\"node\">\n",
       "<title>Project0</title>\n",
       "<polygon fill=\"none\" stroke=\"#000000\" points=\"186.5,-36 123.5,-36 123.5,0 186.5,0 186.5,-36\"/>\n",
       "<text text-anchor=\"middle\" x=\"155\" y=\"-14.3\" font-family=\"Times,serif\" font-size=\"14.00\" fill=\"#000000\">Project0</text>\n",
       "</g>\n",
       "<!-- Project&#45;&gt;Project0 -->\n",
       "<g id=\"edge2\" class=\"edge\">\n",
       "<title>Project&#45;&gt;Project0</title>\n",
       "<path fill=\"none\" stroke=\"#000000\" d=\"M179.9354,-92.3052C170.6255,-86.5888 161.2949,-78.8691 156,-69 152.3156,-62.1328 151.0461,-53.9604 150.9666,-46.1916\"/>\n",
       "<polygon fill=\"#000000\" stroke=\"#000000\" points=\"154.4719,-46.1723 151.4807,-36.0085 147.4808,-45.8192 154.4719,-46.1723\"/>\n",
       "<text text-anchor=\"middle\" x=\"197.5\" y=\"-57.8\" font-family=\"Times,serif\" font-size=\"14.00\" fill=\"#000000\">has_individual</text>\n",
       "</g>\n",
       "<!-- Project1 -->\n",
       "<g id=\"node4\" class=\"node\">\n",
       "<title>Project1</title>\n",
       "<polygon fill=\"none\" stroke=\"#000000\" points=\"292.5,-36 229.5,-36 229.5,0 292.5,0 292.5,-36\"/>\n",
       "<text text-anchor=\"middle\" x=\"261\" y=\"-14.3\" font-family=\"Times,serif\" font-size=\"14.00\" fill=\"#000000\">Project1</text>\n",
       "</g>\n",
       "<!-- Project&#45;&gt;Project1 -->\n",
       "<g id=\"edge3\" class=\"edge\">\n",
       "<title>Project&#45;&gt;Project1</title>\n",
       "<path fill=\"none\" stroke=\"#000000\" d=\"M225.5552,-86.7868C230.2841,-81.3298 235.1502,-75.153 239,-69 243.5313,-61.7578 247.5611,-53.4202 250.8938,-45.6128\"/>\n",
       "<polygon fill=\"#000000\" stroke=\"#000000\" points=\"254.2245,-46.7122 254.7278,-36.1293 247.7348,-44.0885 254.2245,-46.7122\"/>\n",
       "<text text-anchor=\"middle\" x=\"288.5\" y=\"-57.8\" font-family=\"Times,serif\" font-size=\"14.00\" fill=\"#000000\">has_individual</text>\n",
       "</g>\n",
       "<!-- Project2 -->\n",
       "<g id=\"node5\" class=\"node\">\n",
       "<title>Project2</title>\n",
       "<polygon fill=\"none\" stroke=\"#000000\" points=\"398.5,-36 335.5,-36 335.5,0 398.5,0 398.5,-36\"/>\n",
       "<text text-anchor=\"middle\" x=\"367\" y=\"-14.3\" font-family=\"Times,serif\" font-size=\"14.00\" fill=\"#000000\">Project2</text>\n",
       "</g>\n",
       "<!-- Project&#45;&gt;Project2 -->\n",
       "<g id=\"edge4\" class=\"edge\">\n",
       "<title>Project&#45;&gt;Project2</title>\n",
       "<path fill=\"none\" stroke=\"#000000\" d=\"M236.0398,-102.683C263.3646,-99.2005 304.9296,-90.5267 334,-69 342.3032,-62.8515 349.0842,-53.9399 354.292,-45.2804\"/>\n",
       "<polygon fill=\"#000000\" stroke=\"#000000\" points=\"357.3841,-46.9211 359.1475,-36.4741 351.2541,-43.5413 357.3841,-46.9211\"/>\n",
       "<text text-anchor=\"middle\" x=\"388.5\" y=\"-57.8\" font-family=\"Times,serif\" font-size=\"14.00\" fill=\"#000000\">has_individual</text>\n",
       "</g>\n",
       "</g>\n",
       "</svg>\n"
      ],
      "text/plain": [
       "<graphviz.dot.Digraph at 0x10a9977c0>"
      ]
     },
     "execution_count": 84,
     "metadata": {},
     "output_type": "execute_result"
    }
   ],
   "source": [
    "entity = GO.keyword_search_onto('Project', onto)\n",
    "print(entity == onto.Artifact, entity,'-'*20,'\\n')\n",
    "kg = GO.ontograf_simple(entity, onto)\n",
    "print(kg)\n",
    "GO.convert_to_graphviz(kg)"
   ]
  },
  {
   "cell_type": "code",
   "execution_count": null,
   "metadata": {},
   "outputs": [],
   "source": [
    "# so far, I have introduced a new property ' produces' between instances of Project and Artifact.\n",
    "#This does not appear in the class rules, and it will need to presumably."
   ]
  }
 ],
 "metadata": {
  "kernelspec": {
   "display_name": "Python 3",
   "language": "python",
   "name": "python3"
  },
  "language_info": {
   "codemirror_mode": {
    "name": "ipython",
    "version": 3
   },
   "file_extension": ".py",
   "mimetype": "text/x-python",
   "name": "python",
   "nbconvert_exporter": "python",
   "pygments_lexer": "ipython3",
   "version": "3.8.5"
  }
 },
 "nbformat": 4,
 "nbformat_minor": 4
}
